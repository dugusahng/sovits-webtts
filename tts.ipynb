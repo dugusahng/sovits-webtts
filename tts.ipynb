{
 "cells": [
  {
   "cell_type": "code",
   "execution_count": 2,
   "id": "c404aa5e-6dfa-4b52-945f-b7e825f5fac2",
   "metadata": {
    "ExecutionIndicator": {
     "show": false
    },
    "execution": {
     "iopub.execute_input": "2024-02-09T10:26:44.348407Z",
     "iopub.status.busy": "2024-02-09T10:26:44.348099Z",
     "iopub.status.idle": "2024-02-09T10:26:44.352210Z",
     "shell.execute_reply": "2024-02-09T10:26:44.351708Z",
     "shell.execute_reply.started": "2024-02-09T10:26:44.348388Z"
    },
    "tags": []
   },
   "outputs": [
    {
     "data": {
      "text/plain": [
       "<Popen: returncode: None args: 'pip install -r requirements.txt'>"
      ]
     },
     "execution_count": 2,
     "metadata": {},
     "output_type": "execute_result"
    },
    {
     "name": "stdout",
     "output_type": "stream",
     "text": [
      "Looking in indexes: https://mirrors.aliyun.com/pypi/simple\n",
      "Requirement already satisfied: numpy in /opt/conda/lib/python3.10/site-packages (from -r requirements.txt (line 1)) (1.26.3)\n",
      "Requirement already satisfied: scipy in /opt/conda/lib/python3.10/site-packages (from -r requirements.txt (line 2)) (1.11.4)\n",
      "Requirement already satisfied: tensorboard in /opt/conda/lib/python3.10/site-packages (from -r requirements.txt (line 3)) (2.15.1)\n",
      "Collecting librosa==0.9.2 (from -r requirements.txt (line 4))\n",
      "  Using cached https://mirrors.aliyun.com/pypi/packages/e4/1c/23ef2fd02913d65d43dc7516fc829af709314a66c6f0bdc2e361fdcecc2d/librosa-0.9.2-py3-none-any.whl (214 kB)\n",
      "Collecting numba==0.56.4 (from -r requirements.txt (line 5))\n",
      "  Using cached https://mirrors.aliyun.com/pypi/packages/58/a4/859605be01d9979fecde5e94ed6662d9a85853f9849f396d9a84455f4846/numba-0.56.4-cp310-cp310-manylinux2014_x86_64.manylinux_2_17_x86_64.whl (3.5 MB)\n",
      "Collecting pytorch-lightning==2.1 (from -r requirements.txt (line 6))\n",
      "  Using cached https://mirrors.aliyun.com/pypi/packages/98/09/9b2eab7833494e7c82f70c9b2f8e907d38231f4535704e3045a8a4960c8e/pytorch_lightning-2.1.0-py3-none-any.whl (774 kB)\n",
      "Collecting torchmetrics==0.10.1 (from -r requirements.txt (line 7))\n",
      "  Using cached https://mirrors.aliyun.com/pypi/packages/5d/8e/2a962b16131326b3bb27eca3cc28b25c898243d45376f4baff9323f0cbbf/torchmetrics-0.10.1-py3-none-any.whl (529 kB)\n",
      "Collecting gradio==3.47.1 (from -r requirements.txt (line 8))\n",
      "  Using cached https://mirrors.aliyun.com/pypi/packages/05/f2/360ca9546cffa45fee1df56864fdc2b6955de622e98435539490cd882a96/gradio-3.47.1-py3-none-any.whl (20.3 MB)\n",
      "Requirement already satisfied: ffmpeg-python in /opt/conda/lib/python3.10/site-packages (from -r requirements.txt (line 9)) (0.2.0)\n",
      "Requirement already satisfied: onnxruntime in /opt/conda/lib/python3.10/site-packages (from -r requirements.txt (line 10)) (1.16.3)\n",
      "Requirement already satisfied: tqdm in /opt/conda/lib/python3.10/site-packages (from -r requirements.txt (line 11)) (4.65.0)\n",
      "Requirement already satisfied: funasr in /opt/conda/lib/python3.10/site-packages (from -r requirements.txt (line 12)) (0.8.7)\n",
      "Collecting cn2an (from -r requirements.txt (line 13))\n",
      "  Using cached https://mirrors.aliyun.com/pypi/packages/1c/3d/3e04a822b8615904269f7126d8b019ae5c3b5c3c78397ec8bab056b02099/cn2an-0.5.22-py3-none-any.whl (224 kB)\n",
      "Requirement already satisfied: pypinyin in /opt/conda/lib/python3.10/site-packages (from -r requirements.txt (line 14)) (0.44.0)\n",
      "Collecting pyopenjtalk (from -r requirements.txt (line 15))\n",
      "  Using cached https://mirrors.aliyun.com/pypi/packages/94/4f/7f30eb942eab785a3da4973882f2809a830522895e44db550e1e6ecd1f64/pyopenjtalk-0.3.3.tar.gz (1.6 MB)\n",
      "  Installing build dependencies: started\n",
      "  Installing build dependencies: finished with status 'done'\n",
      "  Getting requirements to build wheel: started\n",
      "  Getting requirements to build wheel: finished with status 'done'\n",
      "  Installing backend dependencies: started\n",
      "  Installing backend dependencies: finished with status 'done'\n",
      "  Preparing metadata (pyproject.toml): started\n",
      "  Preparing metadata (pyproject.toml): finished with status 'done'\n",
      "Requirement already satisfied: g2p_en in /opt/conda/lib/python3.10/site-packages (from -r requirements.txt (line 16)) (2.1.0)\n",
      "Requirement already satisfied: torchaudio in /opt/conda/lib/python3.10/site-packages (from -r requirements.txt (line 17)) (2.1.2+cu121)\n",
      "Requirement already satisfied: modelscope in /opt/conda/lib/python3.10/site-packages (from -r requirements.txt (line 18)) (1.11.0)\n",
      "Requirement already satisfied: sentencepiece in /opt/conda/lib/python3.10/site-packages (from -r requirements.txt (line 19)) (0.1.99)\n",
      "Requirement already satisfied: transformers in /opt/conda/lib/python3.10/site-packages (from -r requirements.txt (line 20)) (4.36.2)\n",
      "Collecting chardet (from -r requirements.txt (line 21))\n",
      "  Downloading https://mirrors.aliyun.com/pypi/packages/38/6f/f5fbc992a329ee4e0f288c1fe0e2ad9485ed064cac731ed2fe47dcc38cbf/chardet-5.2.0-py3-none-any.whl (199 kB)\n",
      "\u001b[2K     \u001b[90m━━━━━━━━━━━━━━━━━━━━━━━━━━━━━━━━━━━━━━\u001b[0m \u001b[32m199.4/199.4 kB\u001b[0m \u001b[31m55.3 MB/s\u001b[0m eta \u001b[36m0:00:00\u001b[0m\n",
      "\u001b[?25hRequirement already satisfied: PyYAML in /opt/conda/lib/python3.10/site-packages (from -r requirements.txt (line 22)) (6.0.1)\n",
      "Requirement already satisfied: psutil in /opt/conda/lib/python3.10/site-packages (from -r requirements.txt (line 23)) (5.9.7)\n",
      "Collecting jieba_fast (from -r requirements.txt (line 24))\n",
      "  Downloading https://mirrors.aliyun.com/pypi/packages/87/6f/9c22f7b0ecc043f8e7d324e30767fdc9ce8d3cf5fd66e60823dd2b84432e/jieba_fast-0.53.tar.gz (7.5 MB)\n",
      "\u001b[2K     \u001b[90m━━━━━━━━━━━━━━━━━━━━━━━━━━━━━━━━━━━━━━━━\u001b[0m \u001b[32m7.5/7.5 MB\u001b[0m \u001b[31m83.7 MB/s\u001b[0m eta \u001b[36m0:00:00\u001b[0m:00:01\u001b[0m00:01\u001b[0m\n",
      "\u001b[?25h  Preparing metadata (setup.py): started\n",
      "  Installing build dependencies: finished with status 'done'\n",
      "  Getting requirements to build wheel: started\n",
      "  Preparing metadata (setup.py): finished with status 'done'\n",
      "Requirement already satisfied: jieba in /opt/conda/lib/python3.10/site-packages (from -r requirements.txt (line 25)) (0.42.1)\n",
      "Requirement already satisfied: flask in /opt/conda/lib/python3.10/site-packages (from -r requirements.txt (line 26)) (2.2.5)\n",
      "Requirement already satisfied: audioread>=2.1.9 in /opt/conda/lib/python3.10/site-packages (from librosa==0.9.2->-r requirements.txt (line 4)) (3.0.1)\n",
      "Requirement already satisfied: scikit-learn>=0.19.1 in /opt/conda/lib/python3.10/site-packages (from librosa==0.9.2->-r requirements.txt (line 4)) (1.3.2)\n",
      "Requirement already satisfied: joblib>=0.14 in /opt/conda/lib/python3.10/site-packages (from librosa==0.9.2->-r requirements.txt (line 4)) (1.3.2)\n",
      "Requirement already satisfied: decorator>=4.0.10 in /opt/conda/lib/python3.10/site-packages (from librosa==0.9.2->-r requirements.txt (line 4)) (4.4.2)\n",
      "Requirement already satisfied: resampy>=0.2.2 in /opt/conda/lib/python3.10/site-packages (from librosa==0.9.2->-r requirements.txt (line 4)) (0.4.2)\n",
      "Requirement already satisfied: soundfile>=0.10.2 in /opt/conda/lib/python3.10/site-packages (from librosa==0.9.2->-r requirements.txt (line 4)) (0.12.1)\n",
      "Requirement already satisfied: pooch>=1.0 in /opt/conda/lib/python3.10/site-packages (from librosa==0.9.2->-r requirements.txt (line 4)) (1.8.0)\n",
      "Requirement already satisfied: packaging>=20.0 in /opt/conda/lib/python3.10/site-packages (from librosa==0.9.2->-r requirements.txt (line 4)) (23.1)\n",
      "Collecting llvmlite<0.40,>=0.39.0dev0 (from numba==0.56.4->-r requirements.txt (line 5))\n",
      "  Downloading https://mirrors.aliyun.com/pypi/packages/91/38/6b50b0a8ef737083dc2f4a359d42282b2fb104dae97674dcfc85a48c693b/llvmlite-0.39.1-cp310-cp310-manylinux_2_17_x86_64.manylinux2014_x86_64.whl (34.6 MB)\n",
      "\u001b[2K     \u001b[90m━━━━━━━━━━━━━━━━━━━━━━━━━━━━━━━━━━━━━━━━\u001b[0m \u001b[32m34.6/34.6 MB\u001b[0m \u001b[31m49.7 MB/s\u001b[0m eta \u001b[36m0:00:00\u001b[0m00:01\u001b[0m00:01\u001b[0m\n",
      "\u001b[?25hCollecting numpy (from -r requirements.txt (line 1))\n",
      "  Downloading https://mirrors.aliyun.com/pypi/packages/e4/f3/679b3a042a127de0d7c84874913c3e23bb84646eb3bc6ecab3f8c872edc9/numpy-1.23.5-cp310-cp310-manylinux_2_17_x86_64.manylinux2014_x86_64.whl (17.1 MB)\n",
      "\u001b[2K     \u001b[90m━━━━━━━━━━━━━━━━━━━━━━━━━━━━━━━━━━━━━━━━\u001b[0m \u001b[32m17.1/17.1 MB\u001b[0m \u001b[31m71.1 MB/s\u001b[0m eta \u001b[36m0:00:00\u001b[0m00:01\u001b[0m00:01\u001b[0m\n",
      "\u001b[?25hRequirement already satisfied: setuptools in /opt/conda/lib/python3.10/site-packages (from numba==0.56.4->-r requirements.txt (line 5)) (68.0.0)\n",
      "Requirement already satisfied: torch>=1.12.0 in /opt/conda/lib/python3.10/site-packages (from pytorch-lightning==2.1->-r requirements.txt (line 6)) (2.1.2+cu121)\n",
      "Requirement already satisfied: fsspec>2021.06.0 in /opt/conda/lib/python3.10/site-packages (from fsspec[http]>2021.06.0->pytorch-lightning==2.1->-r requirements.txt (line 6)) (2023.10.0)\n",
      "Requirement already satisfied: typing-extensions>=4.0.0 in /opt/conda/lib/python3.10/site-packages (from pytorch-lightning==2.1->-r requirements.txt (line 6)) (4.9.0)\n",
      "Requirement already satisfied: lightning-utilities>=0.8.0 in /opt/conda/lib/python3.10/site-packages (from pytorch-lightning==2.1->-r requirements.txt (line 6)) (0.10.0)\n",
      "Collecting aiofiles<24.0,>=22.0 (from gradio==3.47.1->-r requirements.txt (line 8))\n",
      "  Downloading https://mirrors.aliyun.com/pypi/packages/c5/19/5af6804c4cc0fed83f47bff6e413a98a36618e7d40185cd36e69737f3b0e/aiofiles-23.2.1-py3-none-any.whl (15 kB)\n",
      "Collecting altair<6.0,>=4.2.0 (from gradio==3.47.1->-r requirements.txt (line 8))\n",
      "  Downloading https://mirrors.aliyun.com/pypi/packages/c5/e4/7fcceef127badbb0d644d730d992410e4f3799b295c9964a172f92a469c7/altair-5.2.0-py3-none-any.whl (996 kB)\n",
      "\u001b[2K     \u001b[90m━━━━━━━━━━━━━━━━━━━━━━━━━━━━━━━━━━━━━━\u001b[0m \u001b[32m996.9/996.9 kB\u001b[0m \u001b[31m71.5 MB/s\u001b[0m eta \u001b[36m0:00:00\u001b[0m\n",
      "\u001b[?25hRequirement already satisfied: fastapi in /opt/conda/lib/python3.10/site-packages (from gradio==3.47.1->-r requirements.txt (line 8)) (0.108.0)\n",
      "Collecting ffmpy (from gradio==3.47.1->-r requirements.txt (line 8))\n",
      "  Downloading https://mirrors.aliyun.com/pypi/packages/9a/06/49b275a312eb207e2a2718a7414dedfded05088437352b67aaa9a355f948/ffmpy-0.3.1.tar.gz (5.5 kB)\n",
      "  Preparing metadata (setup.py): started\n",
      "  Preparing metadata (setup.py): finished with status 'done'\n",
      "Collecting gradio-client==0.6.0 (from gradio==3.47.1->-r requirements.txt (line 8))\n",
      "  Downloading https://mirrors.aliyun.com/pypi/packages/9f/dd/db8dcc8521aa475a18a562929de0806819f8fa73ee8654d2cc22c836c3bd/gradio_client-0.6.0-py3-none-any.whl (298 kB)\n",
      "\u001b[2K     \u001b[90m━━━━━━━━━━━━━━━━━━━━━━━━━━━━━━━━━━━━━━\u001b[0m \u001b[32m298.8/298.8 kB\u001b[0m \u001b[31m75.5 MB/s\u001b[0m eta \u001b[36m0:00:00\u001b[0m\n",
      "\u001b[?25hCollecting httpx (from gradio==3.47.1->-r requirements.txt (line 8))\n",
      "  Downloading https://mirrors.aliyun.com/pypi/packages/39/9b/4937d841aee9c2c8102d9a4eeb800c7dad25386caabb4a1bf5010df81a57/httpx-0.26.0-py3-none-any.whl (75 kB)\n",
      "\u001b[2K     \u001b[90m━━━━━━━━━━━━━━━━━━━━━━━━━━━━━━━━━━━━━━━━\u001b[0m \u001b[32m75.9/75.9 kB\u001b[0m \u001b[31m23.6 MB/s\u001b[0m eta \u001b[36m0:00:00\u001b[0m\n",
      "\u001b[?25hRequirement already satisfied: huggingface-hub>=0.14.0 in /opt/conda/lib/python3.10/site-packages (from gradio==3.47.1->-r requirements.txt (line 8)) (0.20.2)\n",
      "  Getting requirements to build wheel: finished with status 'done'\n",
      "  Installing backend dependencies: started\n",
      "Collecting importlib-resources<7.0,>=1.3 (from gradio==3.47.1->-r requirements.txt (line 8))\n",
      "  Downloading https://mirrors.aliyun.com/pypi/packages/93/e8/facde510585869b5ec694e8e0363ffe4eba067cb357a8398a55f6a1f8023/importlib_resources-6.1.1-py3-none-any.whl (33 kB)\n",
      "Requirement already satisfied: jinja2<4.0 in /opt/conda/lib/python3.10/site-packages (from gradio==3.47.1->-r requirements.txt (line 8)) (3.1.2)\n",
      "Requirement already satisfied: markupsafe~=2.0 in /opt/conda/lib/python3.10/site-packages (from gradio==3.47.1->-r requirements.txt (line 8)) (2.1.3)\n",
      "Requirement already satisfied: matplotlib~=3.0 in /opt/conda/lib/python3.10/site-packages (from gradio==3.47.1->-r requirements.txt (line 8)) (3.5.3)\n",
      "Requirement already satisfied: orjson~=3.0 in /opt/conda/lib/python3.10/site-packages (from gradio==3.47.1->-r requirements.txt (line 8)) (3.9.10)\n",
      "Requirement already satisfied: pandas<3.0,>=1.0 in /opt/conda/lib/python3.10/site-packages (from gradio==3.47.1->-r requirements.txt (line 8)) (2.1.4)\n",
      "Requirement already satisfied: pillow<11.0,>=8.0 in /opt/conda/lib/python3.10/site-packages (from gradio==3.47.1->-r requirements.txt (line 8)) (10.2.0)\n",
      "Requirement already satisfied: pydantic!=1.8,!=1.8.1,!=2.0.0,!=2.0.1,<3.0.0,>=1.7.4 in /opt/conda/lib/python3.10/site-packages (from gradio==3.47.1->-r requirements.txt (line 8)) (1.10.13)\n",
      "Collecting pydub (from gradio==3.47.1->-r requirements.txt (line 8))\n",
      "  Downloading https://mirrors.aliyun.com/pypi/packages/a6/53/d78dc063216e62fc55f6b2eebb447f6a4b0a59f55c8406376f76bf959b08/pydub-0.25.1-py2.py3-none-any.whl (32 kB)\n",
      "Collecting python-multipart (from gradio==3.47.1->-r requirements.txt (line 8))\n",
      "  Downloading https://mirrors.aliyun.com/pypi/packages/94/35/142fff3d85da49377ada6936ad9b776263549ab22656969b2fcd0bdb10f7/python_multipart-0.0.7-py3-none-any.whl (22 kB)\n",
      "Requirement already satisfied: requests~=2.0 in /opt/conda/lib/python3.10/site-packages (from gradio==3.47.1->-r requirements.txt (line 8)) (2.31.0)\n",
      "Collecting semantic-version~=2.0 (from gradio==3.47.1->-r requirements.txt (line 8))\n",
      "  Downloading https://mirrors.aliyun.com/pypi/packages/6a/23/8146aad7d88f4fcb3a6218f41a60f6c2d4e3a72de72da1825dc7c8f7877c/semantic_version-2.10.0-py2.py3-none-any.whl (15 kB)\n",
      "Requirement already satisfied: uvicorn>=0.14.0 in /opt/conda/lib/python3.10/site-packages (from gradio==3.47.1->-r requirements.txt (line 8)) (0.25.0)\n",
      "Collecting websockets<12.0,>=10.0 (from gradio==3.47.1->-r requirements.txt (line 8))\n",
      "  Downloading https://mirrors.aliyun.com/pypi/packages/58/0a/7570e15661a0a546c3a1152d95fe8c05480459bab36247f0acbf41f01a41/websockets-11.0.3-cp310-cp310-manylinux_2_5_x86_64.manylinux1_x86_64.manylinux_2_17_x86_64.manylinux2014_x86_64.whl (129 kB)\n",
      "\u001b[2K     \u001b[90m━━━━━━━━━━━━━━━━━━━━━━━━━━━━━━━━━━━━━━\u001b[0m \u001b[32m129.9/129.9 kB\u001b[0m \u001b[31m39.0 MB/s\u001b[0m eta \u001b[36m0:00:00\u001b[0m\n",
      "\u001b[?25hRequirement already satisfied: absl-py>=0.4 in /opt/conda/lib/python3.10/site-packages (from tensorboard->-r requirements.txt (line 3)) (2.0.0)\n",
      "Requirement already satisfied: grpcio>=1.48.2 in /opt/conda/lib/python3.10/site-packages (from tensorboard->-r requirements.txt (line 3)) (1.60.0)\n",
      "Requirement already satisfied: google-auth<3,>=1.6.3 in /opt/conda/lib/python3.10/site-packages (from tensorboard->-r requirements.txt (line 3)) (2.26.1)\n",
      "Requirement already satisfied: google-auth-oauthlib<2,>=0.5 in /opt/conda/lib/python3.10/site-packages (from tensorboard->-r requirements.txt (line 3)) (1.0.0)\n",
      "Requirement already satisfied: markdown>=2.6.8 in /opt/conda/lib/python3.10/site-packages (from tensorboard->-r requirements.txt (line 3)) (3.5.1)\n",
      "Requirement already satisfied: protobuf<4.24,>=3.19.6 in /opt/conda/lib/python3.10/site-packages (from tensorboard->-r requirements.txt (line 3)) (3.20.3)\n",
      "Requirement already satisfied: six>1.9 in /opt/conda/lib/python3.10/site-packages (from tensorboard->-r requirements.txt (line 3)) (1.16.0)\n",
      "Requirement already satisfied: tensorboard-data-server<0.8.0,>=0.7.0 in /opt/conda/lib/python3.10/site-packages (from tensorboard->-r requirements.txt (line 3)) (0.7.2)\n",
      "Requirement already satisfied: werkzeug>=1.0.1 in /opt/conda/lib/python3.10/site-packages (from tensorboard->-r requirements.txt (line 3)) (2.2.3)\n",
      "Requirement already satisfied: future in /opt/conda/lib/python3.10/site-packages (from ffmpeg-python->-r requirements.txt (line 9)) (0.18.3)\n",
      "Requirement already satisfied: coloredlogs in /opt/conda/lib/python3.10/site-packages (from onnxruntime->-r requirements.txt (line 10)) (14.0)\n",
      "Requirement already satisfied: flatbuffers in /opt/conda/lib/python3.10/site-packages (from onnxruntime->-r requirements.txt (line 10)) (23.5.26)\n",
      "Requirement already satisfied: sympy in /opt/conda/lib/python3.10/site-packages (from onnxruntime->-r requirements.txt (line 10)) (1.12)\n",
      "Requirement already satisfied: humanfriendly in /opt/conda/lib/python3.10/site-packages (from funasr->-r requirements.txt (line 12)) (10.0)\n",
      "Requirement already satisfied: jamo in /opt/conda/lib/python3.10/site-packages (from funasr->-r requirements.txt (line 12)) (0.4.1)\n",
      "Requirement already satisfied: kaldiio>=2.17.0 in /opt/conda/lib/python3.10/site-packages (from funasr->-r requirements.txt (line 12)) (2.18.0)\n",
      "Requirement already satisfied: torch-complex in /opt/conda/lib/python3.10/site-packages (from funasr->-r requirements.txt (line 12)) (0.4.3)\n",
      "Requirement already satisfied: pytorch-wpe in /opt/conda/lib/python3.10/site-packages (from funasr->-r requirements.txt (line 12)) (0.0.1)\n",
      "Requirement already satisfied: editdistance>=0.5.2 in /opt/conda/lib/python3.10/site-packages (from funasr->-r requirements.txt (line 12)) (0.5.2)\n",
      "Requirement already satisfied: oss2 in /opt/conda/lib/python3.10/site-packages (from funasr->-r requirements.txt (line 12)) (2.18.4)\n",
      "Requirement already satisfied: hdbscan in /opt/conda/lib/python3.10/site-packages (from funasr->-r requirements.txt (line 12)) (0.8.33)\n",
      "Requirement already satisfied: umap in /opt/conda/lib/python3.10/site-packages (from funasr->-r requirements.txt (line 12)) (0.1.1)\n",
      "Requirement already satisfied: jaconv in /opt/conda/lib/python3.10/site-packages (from funasr->-r requirements.txt (line 12)) (0.3.4)\n",
      "Collecting proces>=0.1.3 (from cn2an->-r requirements.txt (line 13))\n",
      "  Downloading https://mirrors.aliyun.com/pypi/packages/6f/88/06cc0c7d890ed8d7e16ef0e56880dea516a21643fb1f3a69a50f4cc6f716/proces-0.1.7-py3-none-any.whl (137 kB)\n",
      "\u001b[2K     \u001b[90m━━━━━━━━━━━━━━━━━━━━━━━━━━━━━━━━━━━━━━\u001b[0m \u001b[32m137.7/137.7 kB\u001b[0m \u001b[31m38.1 MB/s\u001b[0m eta \u001b[36m0:00:00\u001b[0m\n",
      "\u001b[?25hRequirement already satisfied: nltk>=3.2.4 in /opt/conda/lib/python3.10/site-packages (from g2p_en->-r requirements.txt (line 16)) (3.8.1)\n",
      "Requirement already satisfied: inflect>=0.3.1 in /opt/conda/lib/python3.10/site-packages (from g2p_en->-r requirements.txt (line 16)) (7.0.0)\n",
      "Requirement already satisfied: distance>=0.1.3 in /opt/conda/lib/python3.10/site-packages (from g2p_en->-r requirements.txt (line 16)) (0.1.3)\n",
      "Requirement already satisfied: filelock in /opt/conda/lib/python3.10/site-packages (from torch>=1.12.0->pytorch-lightning==2.1->-r requirements.txt (line 6)) (3.13.1)\n",
      "Requirement already satisfied: networkx in /opt/conda/lib/python3.10/site-packages (from torch>=1.12.0->pytorch-lightning==2.1->-r requirements.txt (line 6)) (2.8.4)\n",
      "Requirement already satisfied: triton==2.1.0 in /opt/conda/lib/python3.10/site-packages (from torch>=1.12.0->pytorch-lightning==2.1->-r requirements.txt (line 6)) (2.1.0)\n",
      "Requirement already satisfied: addict in /opt/conda/lib/python3.10/site-packages (from modelscope->-r requirements.txt (line 18)) (2.4.0)\n",
      "Requirement already satisfied: attrs in /opt/conda/lib/python3.10/site-packages (from modelscope->-r requirements.txt (line 18)) (23.2.0)\n",
      "Requirement already satisfied: datasets>=2.14.5 in /opt/conda/lib/python3.10/site-packages (from modelscope->-r requirements.txt (line 18)) (2.16.1)\n",
      "Requirement already satisfied: einops in /opt/conda/lib/python3.10/site-packages (from modelscope->-r requirements.txt (line 18)) (0.7.0)\n",
      "Requirement already satisfied: gast>=0.2.2 in /opt/conda/lib/python3.10/site-packages (from modelscope->-r requirements.txt (line 18)) (0.5.4)\n",
      "Requirement already satisfied: pyarrow!=9.0.0,>=6.0.0 in /opt/conda/lib/python3.10/site-packages (from modelscope->-r requirements.txt (line 18)) (14.0.2)\n",
      "Requirement already satisfied: python-dateutil>=2.1 in /opt/conda/lib/python3.10/site-packages (from modelscope->-r requirements.txt (line 18)) (2.8.2)\n",
      "Requirement already satisfied: simplejson>=3.3.0 in /opt/conda/lib/python3.10/site-packages (from modelscope->-r requirements.txt (line 18)) (3.19.2)\n",
      "Requirement already satisfied: sortedcontainers>=1.5.9 in /opt/conda/lib/python3.10/site-packages (from modelscope->-r requirements.txt (line 18)) (2.4.0)\n",
      "Requirement already satisfied: urllib3>=1.26 in /opt/conda/lib/python3.10/site-packages (from modelscope->-r requirements.txt (line 18)) (1.26.16)\n",
      "Requirement already satisfied: yapf in /opt/conda/lib/python3.10/site-packages (from modelscope->-r requirements.txt (line 18)) (0.30.0)\n",
      "Requirement already satisfied: regex!=2019.12.17 in /opt/conda/lib/python3.10/site-packages (from transformers->-r requirements.txt (line 20)) (2023.12.25)\n",
      "Requirement already satisfied: tokenizers<0.19,>=0.14 in /opt/conda/lib/python3.10/site-packages (from transformers->-r requirements.txt (line 20)) (0.15.0)\n",
      "Requirement already satisfied: safetensors>=0.3.1 in /opt/conda/lib/python3.10/site-packages (from transformers->-r requirements.txt (line 20)) (0.4.1)\n",
      "Requirement already satisfied: itsdangerous>=2.0 in /opt/conda/lib/python3.10/site-packages (from flask->-r requirements.txt (line 26)) (2.1.2)\n",
      "Requirement already satisfied: click>=8.0 in /opt/conda/lib/python3.10/site-packages (from flask->-r requirements.txt (line 26)) (8.1.7)\n",
      "Requirement already satisfied: jsonschema>=3.0 in /opt/conda/lib/python3.10/site-packages (from altair<6.0,>=4.2.0->gradio==3.47.1->-r requirements.txt (line 8)) (4.20.0)\n",
      "Collecting toolz (from altair<6.0,>=4.2.0->gradio==3.47.1->-r requirements.txt (line 8))\n",
      "  Downloading https://mirrors.aliyun.com/pypi/packages/b7/8a/d82202c9f89eab30f9fc05380daae87d617e2ad11571ab23d7c13a29bb54/toolz-0.12.1-py3-none-any.whl (56 kB)\n",
      "\u001b[2K     \u001b[90m━━━━━━━━━━━━━━━━━━━━━━━━━━━━━━━━━━━━━━━━\u001b[0m \u001b[32m56.1/56.1 kB\u001b[0m \u001b[31m20.1 MB/s\u001b[0m eta \u001b[36m0:00:00\u001b[0m\n",
      "\u001b[?25hRequirement already satisfied: pyarrow-hotfix in /opt/conda/lib/python3.10/site-packages (from datasets>=2.14.5->modelscope->-r requirements.txt (line 18)) (0.6)\n",
      "Requirement already satisfied: dill<0.3.8,>=0.3.0 in /opt/conda/lib/python3.10/site-packages (from datasets>=2.14.5->modelscope->-r requirements.txt (line 18)) (0.3.7)\n",
      "Requirement already satisfied: xxhash in /opt/conda/lib/python3.10/site-packages (from datasets>=2.14.5->modelscope->-r requirements.txt (line 18)) (3.4.1)\n",
      "Requirement already satisfied: multiprocess in /opt/conda/lib/python3.10/site-packages (from datasets>=2.14.5->modelscope->-r requirements.txt (line 18)) (0.70.15)\n",
      "Requirement already satisfied: aiohttp in /opt/conda/lib/python3.10/site-packages (from datasets>=2.14.5->modelscope->-r requirements.txt (line 18)) (3.9.1)\n",
      "Requirement already satisfied: cachetools<6.0,>=2.0.0 in /opt/conda/lib/python3.10/site-packages (from google-auth<3,>=1.6.3->tensorboard->-r requirements.txt (line 3)) (5.3.2)\n",
      "Requirement already satisfied: pyasn1-modules>=0.2.1 in /opt/conda/lib/python3.10/site-packages (from google-auth<3,>=1.6.3->tensorboard->-r requirements.txt (line 3)) (0.3.0)\n",
      "Requirement already satisfied: rsa<5,>=3.1.4 in /opt/conda/lib/python3.10/site-packages (from google-auth<3,>=1.6.3->tensorboard->-r requirements.txt (line 3)) (4.9)\n",
      "Requirement already satisfied: requests-oauthlib>=0.7.0 in /opt/conda/lib/python3.10/site-packages (from google-auth-oauthlib<2,>=0.5->tensorboard->-r requirements.txt (line 3)) (1.3.1)\n",
      "Requirement already satisfied: cycler>=0.10 in /opt/conda/lib/python3.10/site-packages (from matplotlib~=3.0->gradio==3.47.1->-r requirements.txt (line 8)) (0.12.1)\n",
      "Requirement already satisfied: fonttools>=4.22.0 in /opt/conda/lib/python3.10/site-packages (from matplotlib~=3.0->gradio==3.47.1->-r requirements.txt (line 8)) (4.47.0)\n",
      "Requirement already satisfied: kiwisolver>=1.0.1 in /opt/conda/lib/python3.10/site-packages (from matplotlib~=3.0->gradio==3.47.1->-r requirements.txt (line 8)) (1.4.5)\n",
      "Requirement already satisfied: pyparsing>=2.2.1 in /opt/conda/lib/python3.10/site-packages (from matplotlib~=3.0->gradio==3.47.1->-r requirements.txt (line 8)) (3.1.1)\n",
      "Requirement already satisfied: pytz>=2020.1 in /opt/conda/lib/python3.10/site-packages (from pandas<3.0,>=1.0->gradio==3.47.1->-r requirements.txt (line 8)) (2023.3.post1)\n",
      "Requirement already satisfied: tzdata>=2022.1 in /opt/conda/lib/python3.10/site-packages (from pandas<3.0,>=1.0->gradio==3.47.1->-r requirements.txt (line 8)) (2023.4)\n",
      "Requirement already satisfied: platformdirs>=2.5.0 in /opt/conda/lib/python3.10/site-packages (from pooch>=1.0->librosa==0.9.2->-r requirements.txt (line 4)) (4.1.0)\n",
      "Requirement already satisfied: charset-normalizer<4,>=2 in /opt/conda/lib/python3.10/site-packages (from requests~=2.0->gradio==3.47.1->-r requirements.txt (line 8)) (2.0.4)\n",
      "Requirement already satisfied: idna<4,>=2.5 in /opt/conda/lib/python3.10/site-packages (from requests~=2.0->gradio==3.47.1->-r requirements.txt (line 8)) (3.4)\n",
      "Requirement already satisfied: certifi>=2017.4.17 in /opt/conda/lib/python3.10/site-packages (from requests~=2.0->gradio==3.47.1->-r requirements.txt (line 8)) (2023.11.17)\n",
      "Requirement already satisfied: threadpoolctl>=2.0.0 in /opt/conda/lib/python3.10/site-packages (from scikit-learn>=0.19.1->librosa==0.9.2->-r requirements.txt (line 4)) (3.2.0)\n",
      "Requirement already satisfied: cffi>=1.0 in /opt/conda/lib/python3.10/site-packages (from soundfile>=0.10.2->librosa==0.9.2->-r requirements.txt (line 4)) (1.15.1)\n",
      "Requirement already satisfied: h11>=0.8 in /opt/conda/lib/python3.10/site-packages (from uvicorn>=0.14.0->gradio==3.47.1->-r requirements.txt (line 8)) (0.14.0)\n",
      "Requirement already satisfied: starlette<0.33.0,>=0.29.0 in /opt/conda/lib/python3.10/site-packages (from fastapi->gradio==3.47.1->-r requirements.txt (line 8)) (0.32.0.post1)\n",
      "Requirement already satisfied: cython<3,>=0.27 in /opt/conda/lib/python3.10/site-packages (from hdbscan->funasr->-r requirements.txt (line 12)) (0.29.36)\n",
      "Requirement already satisfied: anyio in /opt/conda/lib/python3.10/site-packages (from httpx->gradio==3.47.1->-r requirements.txt (line 8)) (4.2.0)\n",
      "Collecting httpcore==1.* (from httpx->gradio==3.47.1->-r requirements.txt (line 8))\n",
      "  Downloading https://mirrors.aliyun.com/pypi/packages/56/ba/78b0a99c4da0ff8b0f59defa2f13ca4668189b134bd9840b6202a93d9a0f/httpcore-1.0.2-py3-none-any.whl (76 kB)\n",
      "\u001b[2K     \u001b[90m━━━━━━━━━━━━━━━━━━━━━━━━━━━━━━━━━━━━━━━━\u001b[0m \u001b[32m76.9/76.9 kB\u001b[0m \u001b[31m21.4 MB/s\u001b[0m eta \u001b[36m0:00:00\u001b[0m\n",
      "\u001b[?25hRequirement already satisfied: sniffio in /opt/conda/lib/python3.10/site-packages (from httpx->gradio==3.47.1->-r requirements.txt (line 8)) (1.3.0)\n",
      "Requirement already satisfied: crcmod>=1.7 in /opt/conda/lib/python3.10/site-packages (from oss2->funasr->-r requirements.txt (line 12)) (1.7)\n",
      "Requirement already satisfied: pycryptodome>=3.4.7 in /opt/conda/lib/python3.10/site-packages (from oss2->funasr->-r requirements.txt (line 12)) (3.19.1)\n",
      "Requirement already satisfied: aliyun-python-sdk-kms>=2.4.1 in /opt/conda/lib/python3.10/site-packages (from oss2->funasr->-r requirements.txt (line 12)) (2.16.2)\n",
      "Requirement already satisfied: aliyun-python-sdk-core>=2.13.12 in /opt/conda/lib/python3.10/site-packages (from oss2->funasr->-r requirements.txt (line 12)) (2.14.0)\n",
      "Requirement already satisfied: mpmath>=0.19 in /opt/conda/lib/python3.10/site-packages (from sympy->onnxruntime->-r requirements.txt (line 10)) (1.3.0)\n",
      "Requirement already satisfied: multidict<7.0,>=4.5 in /opt/conda/lib/python3.10/site-packages (from aiohttp->datasets>=2.14.5->modelscope->-r requirements.txt (line 18)) (6.0.4)\n",
      "Requirement already satisfied: yarl<2.0,>=1.0 in /opt/conda/lib/python3.10/site-packages (from aiohttp->datasets>=2.14.5->modelscope->-r requirements.txt (line 18)) (1.9.4)\n",
      "Requirement already satisfied: frozenlist>=1.1.1 in /opt/conda/lib/python3.10/site-packages (from aiohttp->datasets>=2.14.5->modelscope->-r requirements.txt (line 18)) (1.4.1)\n",
      "Requirement already satisfied: aiosignal>=1.1.2 in /opt/conda/lib/python3.10/site-packages (from aiohttp->datasets>=2.14.5->modelscope->-r requirements.txt (line 18)) (1.3.1)\n",
      "Requirement already satisfied: async-timeout<5.0,>=4.0 in /opt/conda/lib/python3.10/site-packages (from aiohttp->datasets>=2.14.5->modelscope->-r requirements.txt (line 18)) (4.0.3)\n",
      "Requirement already satisfied: jmespath<1.0.0,>=0.9.3 in /opt/conda/lib/python3.10/site-packages (from aliyun-python-sdk-core>=2.13.12->oss2->funasr->-r requirements.txt (line 12)) (0.10.0)\n",
      "Requirement already satisfied: cryptography>=2.6.0 in /opt/conda/lib/python3.10/site-packages (from aliyun-python-sdk-core>=2.13.12->oss2->funasr->-r requirements.txt (line 12)) (41.0.3)\n",
      "Requirement already satisfied: pycparser in /opt/conda/lib/python3.10/site-packages (from cffi>=1.0->soundfile>=0.10.2->librosa==0.9.2->-r requirements.txt (line 4)) (2.21)\n",
      "Requirement already satisfied: jsonschema-specifications>=2023.03.6 in /opt/conda/lib/python3.10/site-packages (from jsonschema>=3.0->altair<6.0,>=4.2.0->gradio==3.47.1->-r requirements.txt (line 8)) (2023.12.1)\n",
      "Requirement already satisfied: referencing>=0.28.4 in /opt/conda/lib/python3.10/site-packages (from jsonschema>=3.0->altair<6.0,>=4.2.0->gradio==3.47.1->-r requirements.txt (line 8)) (0.32.0)\n",
      "Requirement already satisfied: rpds-py>=0.7.1 in /opt/conda/lib/python3.10/site-packages (from jsonschema>=3.0->altair<6.0,>=4.2.0->gradio==3.47.1->-r requirements.txt (line 8)) (0.16.2)\n",
      "Requirement already satisfied: pyasn1<0.6.0,>=0.4.6 in /opt/conda/lib/python3.10/site-packages (from pyasn1-modules>=0.2.1->google-auth<3,>=1.6.3->tensorboard->-r requirements.txt (line 3)) (0.5.1)\n",
      "Requirement already satisfied: oauthlib>=3.0.0 in /opt/conda/lib/python3.10/site-packages (from requests-oauthlib>=0.7.0->google-auth-oauthlib<2,>=0.5->tensorboard->-r requirements.txt (line 3)) (3.2.2)\n",
      "Requirement already satisfied: exceptiongroup>=1.0.2 in /opt/conda/lib/python3.10/site-packages (from anyio->httpx->gradio==3.47.1->-r requirements.txt (line 8)) (1.2.0)\n",
      "Building wheels for collected packages: pyopenjtalk, jieba_fast, ffmpy\n",
      "  Building wheel for pyopenjtalk (pyproject.toml): started\n",
      "  Installing backend dependencies: finished with status 'done'\n",
      "  Preparing metadata (pyproject.toml): started\n",
      "  Preparing metadata (pyproject.toml): finished with status 'done'\n",
      "Requirement already satisfied: g2p_en in /opt/conda/lib/python3.10/site-packages (from -r requirements.txt (line 16)) (2.1.0)\n",
      "Requirement already satisfied: torchaudio in /opt/conda/lib/python3.10/site-packages (from -r requirements.txt (line 17)) (2.1.2+cu121)\n",
      "Requirement already satisfied: modelscope in /opt/conda/lib/python3.10/site-packages (from -r requirements.txt (line 18)) (1.11.0)\n",
      "Requirement already satisfied: sentencepiece in /opt/conda/lib/python3.10/site-packages (from -r requirements.txt (line 19)) (0.1.99)\n",
      "Requirement already satisfied: transformers in /opt/conda/lib/python3.10/site-packages (from -r requirements.txt (line 20)) (4.36.2)\n",
      "Collecting chardet (from -r requirements.txt (line 21))\n",
      "  Using cached https://mirrors.aliyun.com/pypi/packages/38/6f/f5fbc992a329ee4e0f288c1fe0e2ad9485ed064cac731ed2fe47dcc38cbf/chardet-5.2.0-py3-none-any.whl (199 kB)\n",
      "Requirement already satisfied: PyYAML in /opt/conda/lib/python3.10/site-packages (from -r requirements.txt (line 22)) (6.0.1)\n",
      "Requirement already satisfied: psutil in /opt/conda/lib/python3.10/site-packages (from -r requirements.txt (line 23)) (5.9.7)\n",
      "Collecting jieba_fast (from -r requirements.txt (line 24))\n",
      "  Using cached https://mirrors.aliyun.com/pypi/packages/87/6f/9c22f7b0ecc043f8e7d324e30767fdc9ce8d3cf5fd66e60823dd2b84432e/jieba_fast-0.53.tar.gz (7.5 MB)\n",
      "  Preparing metadata (setup.py): started\n",
      "  Preparing metadata (setup.py): finished with status 'done'\n",
      "Requirement already satisfied: jieba in /opt/conda/lib/python3.10/site-packages (from -r requirements.txt (line 25)) (0.42.1)\n",
      "Requirement already satisfied: flask in /opt/conda/lib/python3.10/site-packages (from -r requirements.txt (line 26)) (2.2.5)\n",
      "Requirement already satisfied: audioread>=2.1.9 in /opt/conda/lib/python3.10/site-packages (from librosa==0.9.2->-r requirements.txt (line 4)) (3.0.1)\n",
      "Requirement already satisfied: scikit-learn>=0.19.1 in /opt/conda/lib/python3.10/site-packages (from librosa==0.9.2->-r requirements.txt (line 4)) (1.3.2)\n",
      "Requirement already satisfied: joblib>=0.14 in /opt/conda/lib/python3.10/site-packages (from librosa==0.9.2->-r requirements.txt (line 4)) (1.3.2)\n",
      "Requirement already satisfied: decorator>=4.0.10 in /opt/conda/lib/python3.10/site-packages (from librosa==0.9.2->-r requirements.txt (line 4)) (4.4.2)\n",
      "Requirement already satisfied: resampy>=0.2.2 in /opt/conda/lib/python3.10/site-packages (from librosa==0.9.2->-r requirements.txt (line 4)) (0.4.2)\n",
      "Requirement already satisfied: soundfile>=0.10.2 in /opt/conda/lib/python3.10/site-packages (from librosa==0.9.2->-r requirements.txt (line 4)) (0.12.1)\n",
      "Requirement already satisfied: pooch>=1.0 in /opt/conda/lib/python3.10/site-packages (from librosa==0.9.2->-r requirements.txt (line 4)) (1.8.0)\n",
      "Requirement already satisfied: packaging>=20.0 in /opt/conda/lib/python3.10/site-packages (from librosa==0.9.2->-r requirements.txt (line 4)) (23.1)\n",
      "Collecting llvmlite<0.40,>=0.39.0dev0 (from numba==0.56.4->-r requirements.txt (line 5))\n",
      "  Using cached https://mirrors.aliyun.com/pypi/packages/91/38/6b50b0a8ef737083dc2f4a359d42282b2fb104dae97674dcfc85a48c693b/llvmlite-0.39.1-cp310-cp310-manylinux_2_17_x86_64.manylinux2014_x86_64.whl (34.6 MB)\n",
      "Collecting numpy (from -r requirements.txt (line 1))\n",
      "  Using cached https://mirrors.aliyun.com/pypi/packages/e4/f3/679b3a042a127de0d7c84874913c3e23bb84646eb3bc6ecab3f8c872edc9/numpy-1.23.5-cp310-cp310-manylinux_2_17_x86_64.manylinux2014_x86_64.whl (17.1 MB)\n",
      "Requirement already satisfied: setuptools in /opt/conda/lib/python3.10/site-packages (from numba==0.56.4->-r requirements.txt (line 5)) (68.0.0)\n",
      "Requirement already satisfied: torch>=1.12.0 in /opt/conda/lib/python3.10/site-packages (from pytorch-lightning==2.1->-r requirements.txt (line 6)) (2.1.2+cu121)\n",
      "Requirement already satisfied: fsspec>2021.06.0 in /opt/conda/lib/python3.10/site-packages (from fsspec[http]>2021.06.0->pytorch-lightning==2.1->-r requirements.txt (line 6)) (2023.10.0)\n",
      "Requirement already satisfied: typing-extensions>=4.0.0 in /opt/conda/lib/python3.10/site-packages (from pytorch-lightning==2.1->-r requirements.txt (line 6)) (4.9.0)\n",
      "Requirement already satisfied: lightning-utilities>=0.8.0 in /opt/conda/lib/python3.10/site-packages (from pytorch-lightning==2.1->-r requirements.txt (line 6)) (0.10.0)\n",
      "Collecting aiofiles<24.0,>=22.0 (from gradio==3.47.1->-r requirements.txt (line 8))\n",
      "  Using cached https://mirrors.aliyun.com/pypi/packages/c5/19/5af6804c4cc0fed83f47bff6e413a98a36618e7d40185cd36e69737f3b0e/aiofiles-23.2.1-py3-none-any.whl (15 kB)\n",
      "Collecting altair<6.0,>=4.2.0 (from gradio==3.47.1->-r requirements.txt (line 8))\n",
      "  Using cached https://mirrors.aliyun.com/pypi/packages/c5/e4/7fcceef127badbb0d644d730d992410e4f3799b295c9964a172f92a469c7/altair-5.2.0-py3-none-any.whl (996 kB)\n",
      "Requirement already satisfied: fastapi in /opt/conda/lib/python3.10/site-packages (from gradio==3.47.1->-r requirements.txt (line 8)) (0.108.0)\n",
      "Collecting ffmpy (from gradio==3.47.1->-r requirements.txt (line 8))\n",
      "  Using cached https://mirrors.aliyun.com/pypi/packages/9a/06/49b275a312eb207e2a2718a7414dedfded05088437352b67aaa9a355f948/ffmpy-0.3.1.tar.gz (5.5 kB)\n",
      "  Preparing metadata (setup.py): started\n",
      "  Preparing metadata (setup.py): finished with status 'done'\n",
      "Collecting gradio-client==0.6.0 (from gradio==3.47.1->-r requirements.txt (line 8))\n",
      "  Using cached https://mirrors.aliyun.com/pypi/packages/9f/dd/db8dcc8521aa475a18a562929de0806819f8fa73ee8654d2cc22c836c3bd/gradio_client-0.6.0-py3-none-any.whl (298 kB)\n",
      "Collecting httpx (from gradio==3.47.1->-r requirements.txt (line 8))\n",
      "  Using cached https://mirrors.aliyun.com/pypi/packages/39/9b/4937d841aee9c2c8102d9a4eeb800c7dad25386caabb4a1bf5010df81a57/httpx-0.26.0-py3-none-any.whl (75 kB)\n",
      "Requirement already satisfied: huggingface-hub>=0.14.0 in /opt/conda/lib/python3.10/site-packages (from gradio==3.47.1->-r requirements.txt (line 8)) (0.20.2)\n",
      "Collecting importlib-resources<7.0,>=1.3 (from gradio==3.47.1->-r requirements.txt (line 8))\n",
      "  Using cached https://mirrors.aliyun.com/pypi/packages/93/e8/facde510585869b5ec694e8e0363ffe4eba067cb357a8398a55f6a1f8023/importlib_resources-6.1.1-py3-none-any.whl (33 kB)\n",
      "Requirement already satisfied: jinja2<4.0 in /opt/conda/lib/python3.10/site-packages (from gradio==3.47.1->-r requirements.txt (line 8)) (3.1.2)\n",
      "Requirement already satisfied: markupsafe~=2.0 in /opt/conda/lib/python3.10/site-packages (from gradio==3.47.1->-r requirements.txt (line 8)) (2.1.3)\n",
      "Requirement already satisfied: matplotlib~=3.0 in /opt/conda/lib/python3.10/site-packages (from gradio==3.47.1->-r requirements.txt (line 8)) (3.5.3)\n",
      "Requirement already satisfied: orjson~=3.0 in /opt/conda/lib/python3.10/site-packages (from gradio==3.47.1->-r requirements.txt (line 8)) (3.9.10)\n",
      "Requirement already satisfied: pandas<3.0,>=1.0 in /opt/conda/lib/python3.10/site-packages (from gradio==3.47.1->-r requirements.txt (line 8)) (2.1.4)\n",
      "Requirement already satisfied: pillow<11.0,>=8.0 in /opt/conda/lib/python3.10/site-packages (from gradio==3.47.1->-r requirements.txt (line 8)) (10.2.0)\n",
      "Requirement already satisfied: pydantic!=1.8,!=1.8.1,!=2.0.0,!=2.0.1,<3.0.0,>=1.7.4 in /opt/conda/lib/python3.10/site-packages (from gradio==3.47.1->-r requirements.txt (line 8)) (1.10.13)\n",
      "Collecting pydub (from gradio==3.47.1->-r requirements.txt (line 8))\n",
      "  Using cached https://mirrors.aliyun.com/pypi/packages/a6/53/d78dc063216e62fc55f6b2eebb447f6a4b0a59f55c8406376f76bf959b08/pydub-0.25.1-py2.py3-none-any.whl (32 kB)\n",
      "Collecting python-multipart (from gradio==3.47.1->-r requirements.txt (line 8))\n",
      "  Using cached https://mirrors.aliyun.com/pypi/packages/94/35/142fff3d85da49377ada6936ad9b776263549ab22656969b2fcd0bdb10f7/python_multipart-0.0.7-py3-none-any.whl (22 kB)\n",
      "Requirement already satisfied: requests~=2.0 in /opt/conda/lib/python3.10/site-packages (from gradio==3.47.1->-r requirements.txt (line 8)) (2.31.0)\n",
      "Collecting semantic-version~=2.0 (from gradio==3.47.1->-r requirements.txt (line 8))\n",
      "  Using cached https://mirrors.aliyun.com/pypi/packages/6a/23/8146aad7d88f4fcb3a6218f41a60f6c2d4e3a72de72da1825dc7c8f7877c/semantic_version-2.10.0-py2.py3-none-any.whl (15 kB)\n",
      "Requirement already satisfied: uvicorn>=0.14.0 in /opt/conda/lib/python3.10/site-packages (from gradio==3.47.1->-r requirements.txt (line 8)) (0.25.0)\n",
      "Collecting websockets<12.0,>=10.0 (from gradio==3.47.1->-r requirements.txt (line 8))\n",
      "  Using cached https://mirrors.aliyun.com/pypi/packages/58/0a/7570e15661a0a546c3a1152d95fe8c05480459bab36247f0acbf41f01a41/websockets-11.0.3-cp310-cp310-manylinux_2_5_x86_64.manylinux1_x86_64.manylinux_2_17_x86_64.manylinux2014_x86_64.whl (129 kB)\n",
      "Requirement already satisfied: absl-py>=0.4 in /opt/conda/lib/python3.10/site-packages (from tensorboard->-r requirements.txt (line 3)) (2.0.0)\n",
      "Requirement already satisfied: grpcio>=1.48.2 in /opt/conda/lib/python3.10/site-packages (from tensorboard->-r requirements.txt (line 3)) (1.60.0)\n",
      "Requirement already satisfied: google-auth<3,>=1.6.3 in /opt/conda/lib/python3.10/site-packages (from tensorboard->-r requirements.txt (line 3)) (2.26.1)\n",
      "Requirement already satisfied: google-auth-oauthlib<2,>=0.5 in /opt/conda/lib/python3.10/site-packages (from tensorboard->-r requirements.txt (line 3)) (1.0.0)\n",
      "Requirement already satisfied: markdown>=2.6.8 in /opt/conda/lib/python3.10/site-packages (from tensorboard->-r requirements.txt (line 3)) (3.5.1)\n",
      "Requirement already satisfied: protobuf<4.24,>=3.19.6 in /opt/conda/lib/python3.10/site-packages (from tensorboard->-r requirements.txt (line 3)) (3.20.3)\n",
      "Requirement already satisfied: six>1.9 in /opt/conda/lib/python3.10/site-packages (from tensorboard->-r requirements.txt (line 3)) (1.16.0)\n",
      "Requirement already satisfied: tensorboard-data-server<0.8.0,>=0.7.0 in /opt/conda/lib/python3.10/site-packages (from tensorboard->-r requirements.txt (line 3)) (0.7.2)\n",
      "Requirement already satisfied: werkzeug>=1.0.1 in /opt/conda/lib/python3.10/site-packages (from tensorboard->-r requirements.txt (line 3)) (2.2.3)\n",
      "Requirement already satisfied: future in /opt/conda/lib/python3.10/site-packages (from ffmpeg-python->-r requirements.txt (line 9)) (0.18.3)\n",
      "Requirement already satisfied: coloredlogs in /opt/conda/lib/python3.10/site-packages (from onnxruntime->-r requirements.txt (line 10)) (14.0)\n",
      "Requirement already satisfied: flatbuffers in /opt/conda/lib/python3.10/site-packages (from onnxruntime->-r requirements.txt (line 10)) (23.5.26)\n",
      "Requirement already satisfied: sympy in /opt/conda/lib/python3.10/site-packages (from onnxruntime->-r requirements.txt (line 10)) (1.12)\n",
      "Requirement already satisfied: humanfriendly in /opt/conda/lib/python3.10/site-packages (from funasr->-r requirements.txt (line 12)) (10.0)\n",
      "Requirement already satisfied: jamo in /opt/conda/lib/python3.10/site-packages (from funasr->-r requirements.txt (line 12)) (0.4.1)\n",
      "Requirement already satisfied: kaldiio>=2.17.0 in /opt/conda/lib/python3.10/site-packages (from funasr->-r requirements.txt (line 12)) (2.18.0)\n",
      "Requirement already satisfied: torch-complex in /opt/conda/lib/python3.10/site-packages (from funasr->-r requirements.txt (line 12)) (0.4.3)\n",
      "Requirement already satisfied: pytorch-wpe in /opt/conda/lib/python3.10/site-packages (from funasr->-r requirements.txt (line 12)) (0.0.1)\n",
      "Requirement already satisfied: editdistance>=0.5.2 in /opt/conda/lib/python3.10/site-packages (from funasr->-r requirements.txt (line 12)) (0.5.2)\n",
      "Requirement already satisfied: oss2 in /opt/conda/lib/python3.10/site-packages (from funasr->-r requirements.txt (line 12)) (2.18.4)\n",
      "Requirement already satisfied: hdbscan in /opt/conda/lib/python3.10/site-packages (from funasr->-r requirements.txt (line 12)) (0.8.33)\n",
      "Requirement already satisfied: umap in /opt/conda/lib/python3.10/site-packages (from funasr->-r requirements.txt (line 12)) (0.1.1)\n",
      "Requirement already satisfied: jaconv in /opt/conda/lib/python3.10/site-packages (from funasr->-r requirements.txt (line 12)) (0.3.4)\n",
      "Collecting proces>=0.1.3 (from cn2an->-r requirements.txt (line 13))\n",
      "  Using cached https://mirrors.aliyun.com/pypi/packages/6f/88/06cc0c7d890ed8d7e16ef0e56880dea516a21643fb1f3a69a50f4cc6f716/proces-0.1.7-py3-none-any.whl (137 kB)\n",
      "Requirement already satisfied: nltk>=3.2.4 in /opt/conda/lib/python3.10/site-packages (from g2p_en->-r requirements.txt (line 16)) (3.8.1)\n",
      "Requirement already satisfied: inflect>=0.3.1 in /opt/conda/lib/python3.10/site-packages (from g2p_en->-r requirements.txt (line 16)) (7.0.0)\n",
      "Requirement already satisfied: distance>=0.1.3 in /opt/conda/lib/python3.10/site-packages (from g2p_en->-r requirements.txt (line 16)) (0.1.3)\n",
      "Requirement already satisfied: filelock in /opt/conda/lib/python3.10/site-packages (from torch>=1.12.0->pytorch-lightning==2.1->-r requirements.txt (line 6)) (3.13.1)\n",
      "Requirement already satisfied: networkx in /opt/conda/lib/python3.10/site-packages (from torch>=1.12.0->pytorch-lightning==2.1->-r requirements.txt (line 6)) (2.8.4)\n",
      "Requirement already satisfied: triton==2.1.0 in /opt/conda/lib/python3.10/site-packages (from torch>=1.12.0->pytorch-lightning==2.1->-r requirements.txt (line 6)) (2.1.0)\n",
      "Requirement already satisfied: addict in /opt/conda/lib/python3.10/site-packages (from modelscope->-r requirements.txt (line 18)) (2.4.0)\n",
      "Requirement already satisfied: attrs in /opt/conda/lib/python3.10/site-packages (from modelscope->-r requirements.txt (line 18)) (23.2.0)\n",
      "Requirement already satisfied: datasets>=2.14.5 in /opt/conda/lib/python3.10/site-packages (from modelscope->-r requirements.txt (line 18)) (2.16.1)\n",
      "Requirement already satisfied: einops in /opt/conda/lib/python3.10/site-packages (from modelscope->-r requirements.txt (line 18)) (0.7.0)\n",
      "Requirement already satisfied: gast>=0.2.2 in /opt/conda/lib/python3.10/site-packages (from modelscope->-r requirements.txt (line 18)) (0.5.4)\n",
      "Requirement already satisfied: pyarrow!=9.0.0,>=6.0.0 in /opt/conda/lib/python3.10/site-packages (from modelscope->-r requirements.txt (line 18)) (14.0.2)\n",
      "Requirement already satisfied: python-dateutil>=2.1 in /opt/conda/lib/python3.10/site-packages (from modelscope->-r requirements.txt (line 18)) (2.8.2)\n",
      "Requirement already satisfied: simplejson>=3.3.0 in /opt/conda/lib/python3.10/site-packages (from modelscope->-r requirements.txt (line 18)) (3.19.2)\n",
      "Requirement already satisfied: sortedcontainers>=1.5.9 in /opt/conda/lib/python3.10/site-packages (from modelscope->-r requirements.txt (line 18)) (2.4.0)\n",
      "Requirement already satisfied: urllib3>=1.26 in /opt/conda/lib/python3.10/site-packages (from modelscope->-r requirements.txt (line 18)) (1.26.16)\n",
      "Requirement already satisfied: yapf in /opt/conda/lib/python3.10/site-packages (from modelscope->-r requirements.txt (line 18)) (0.30.0)\n",
      "Requirement already satisfied: regex!=2019.12.17 in /opt/conda/lib/python3.10/site-packages (from transformers->-r requirements.txt (line 20)) (2023.12.25)\n",
      "Requirement already satisfied: tokenizers<0.19,>=0.14 in /opt/conda/lib/python3.10/site-packages (from transformers->-r requirements.txt (line 20)) (0.15.0)\n",
      "Requirement already satisfied: safetensors>=0.3.1 in /opt/conda/lib/python3.10/site-packages (from transformers->-r requirements.txt (line 20)) (0.4.1)\n",
      "Requirement already satisfied: itsdangerous>=2.0 in /opt/conda/lib/python3.10/site-packages (from flask->-r requirements.txt (line 26)) (2.1.2)\n",
      "Requirement already satisfied: click>=8.0 in /opt/conda/lib/python3.10/site-packages (from flask->-r requirements.txt (line 26)) (8.1.7)\n",
      "Requirement already satisfied: jsonschema>=3.0 in /opt/conda/lib/python3.10/site-packages (from altair<6.0,>=4.2.0->gradio==3.47.1->-r requirements.txt (line 8)) (4.20.0)\n",
      "Collecting toolz (from altair<6.0,>=4.2.0->gradio==3.47.1->-r requirements.txt (line 8))\n",
      "  Using cached https://mirrors.aliyun.com/pypi/packages/b7/8a/d82202c9f89eab30f9fc05380daae87d617e2ad11571ab23d7c13a29bb54/toolz-0.12.1-py3-none-any.whl (56 kB)\n",
      "Requirement already satisfied: pyarrow-hotfix in /opt/conda/lib/python3.10/site-packages (from datasets>=2.14.5->modelscope->-r requirements.txt (line 18)) (0.6)\n",
      "Requirement already satisfied: dill<0.3.8,>=0.3.0 in /opt/conda/lib/python3.10/site-packages (from datasets>=2.14.5->modelscope->-r requirements.txt (line 18)) (0.3.7)\n",
      "Requirement already satisfied: xxhash in /opt/conda/lib/python3.10/site-packages (from datasets>=2.14.5->modelscope->-r requirements.txt (line 18)) (3.4.1)\n",
      "Requirement already satisfied: multiprocess in /opt/conda/lib/python3.10/site-packages (from datasets>=2.14.5->modelscope->-r requirements.txt (line 18)) (0.70.15)\n",
      "Requirement already satisfied: aiohttp in /opt/conda/lib/python3.10/site-packages (from datasets>=2.14.5->modelscope->-r requirements.txt (line 18)) (3.9.1)\n",
      "Requirement already satisfied: cachetools<6.0,>=2.0.0 in /opt/conda/lib/python3.10/site-packages (from google-auth<3,>=1.6.3->tensorboard->-r requirements.txt (line 3)) (5.3.2)\n",
      "Requirement already satisfied: pyasn1-modules>=0.2.1 in /opt/conda/lib/python3.10/site-packages (from google-auth<3,>=1.6.3->tensorboard->-r requirements.txt (line 3)) (0.3.0)\n",
      "Requirement already satisfied: rsa<5,>=3.1.4 in /opt/conda/lib/python3.10/site-packages (from google-auth<3,>=1.6.3->tensorboard->-r requirements.txt (line 3)) (4.9)\n",
      "Requirement already satisfied: requests-oauthlib>=0.7.0 in /opt/conda/lib/python3.10/site-packages (from google-auth-oauthlib<2,>=0.5->tensorboard->-r requirements.txt (line 3)) (1.3.1)\n",
      "Requirement already satisfied: cycler>=0.10 in /opt/conda/lib/python3.10/site-packages (from matplotlib~=3.0->gradio==3.47.1->-r requirements.txt (line 8)) (0.12.1)\n",
      "Requirement already satisfied: fonttools>=4.22.0 in /opt/conda/lib/python3.10/site-packages (from matplotlib~=3.0->gradio==3.47.1->-r requirements.txt (line 8)) (4.47.0)\n",
      "Requirement already satisfied: kiwisolver>=1.0.1 in /opt/conda/lib/python3.10/site-packages (from matplotlib~=3.0->gradio==3.47.1->-r requirements.txt (line 8)) (1.4.5)\n",
      "Requirement already satisfied: pyparsing>=2.2.1 in /opt/conda/lib/python3.10/site-packages (from matplotlib~=3.0->gradio==3.47.1->-r requirements.txt (line 8)) (3.1.1)\n",
      "Requirement already satisfied: pytz>=2020.1 in /opt/conda/lib/python3.10/site-packages (from pandas<3.0,>=1.0->gradio==3.47.1->-r requirements.txt (line 8)) (2023.3.post1)\n",
      "Requirement already satisfied: tzdata>=2022.1 in /opt/conda/lib/python3.10/site-packages (from pandas<3.0,>=1.0->gradio==3.47.1->-r requirements.txt (line 8)) (2023.4)\n",
      "Requirement already satisfied: platformdirs>=2.5.0 in /opt/conda/lib/python3.10/site-packages (from pooch>=1.0->librosa==0.9.2->-r requirements.txt (line 4)) (4.1.0)\n",
      "Requirement already satisfied: charset-normalizer<4,>=2 in /opt/conda/lib/python3.10/site-packages (from requests~=2.0->gradio==3.47.1->-r requirements.txt (line 8)) (2.0.4)\n",
      "Requirement already satisfied: idna<4,>=2.5 in /opt/conda/lib/python3.10/site-packages (from requests~=2.0->gradio==3.47.1->-r requirements.txt (line 8)) (3.4)\n",
      "Requirement already satisfied: certifi>=2017.4.17 in /opt/conda/lib/python3.10/site-packages (from requests~=2.0->gradio==3.47.1->-r requirements.txt (line 8)) (2023.11.17)\n",
      "Requirement already satisfied: threadpoolctl>=2.0.0 in /opt/conda/lib/python3.10/site-packages (from scikit-learn>=0.19.1->librosa==0.9.2->-r requirements.txt (line 4)) (3.2.0)\n",
      "Requirement already satisfied: cffi>=1.0 in /opt/conda/lib/python3.10/site-packages (from soundfile>=0.10.2->librosa==0.9.2->-r requirements.txt (line 4)) (1.15.1)\n",
      "Requirement already satisfied: h11>=0.8 in /opt/conda/lib/python3.10/site-packages (from uvicorn>=0.14.0->gradio==3.47.1->-r requirements.txt (line 8)) (0.14.0)\n",
      "Requirement already satisfied: starlette<0.33.0,>=0.29.0 in /opt/conda/lib/python3.10/site-packages (from fastapi->gradio==3.47.1->-r requirements.txt (line 8)) (0.32.0.post1)\n",
      "Requirement already satisfied: cython<3,>=0.27 in /opt/conda/lib/python3.10/site-packages (from hdbscan->funasr->-r requirements.txt (line 12)) (0.29.36)\n",
      "Requirement already satisfied: anyio in /opt/conda/lib/python3.10/site-packages (from httpx->gradio==3.47.1->-r requirements.txt (line 8)) (4.2.0)\n",
      "Collecting httpcore==1.* (from httpx->gradio==3.47.1->-r requirements.txt (line 8))\n",
      "  Using cached https://mirrors.aliyun.com/pypi/packages/56/ba/78b0a99c4da0ff8b0f59defa2f13ca4668189b134bd9840b6202a93d9a0f/httpcore-1.0.2-py3-none-any.whl (76 kB)\n",
      "Requirement already satisfied: sniffio in /opt/conda/lib/python3.10/site-packages (from httpx->gradio==3.47.1->-r requirements.txt (line 8)) (1.3.0)\n",
      "Requirement already satisfied: crcmod>=1.7 in /opt/conda/lib/python3.10/site-packages (from oss2->funasr->-r requirements.txt (line 12)) (1.7)\n",
      "Requirement already satisfied: pycryptodome>=3.4.7 in /opt/conda/lib/python3.10/site-packages (from oss2->funasr->-r requirements.txt (line 12)) (3.19.1)\n",
      "Requirement already satisfied: aliyun-python-sdk-kms>=2.4.1 in /opt/conda/lib/python3.10/site-packages (from oss2->funasr->-r requirements.txt (line 12)) (2.16.2)\n",
      "Requirement already satisfied: aliyun-python-sdk-core>=2.13.12 in /opt/conda/lib/python3.10/site-packages (from oss2->funasr->-r requirements.txt (line 12)) (2.14.0)\n",
      "Requirement already satisfied: mpmath>=0.19 in /opt/conda/lib/python3.10/site-packages (from sympy->onnxruntime->-r requirements.txt (line 10)) (1.3.0)\n",
      "Requirement already satisfied: multidict<7.0,>=4.5 in /opt/conda/lib/python3.10/site-packages (from aiohttp->datasets>=2.14.5->modelscope->-r requirements.txt (line 18)) (6.0.4)\n",
      "Requirement already satisfied: yarl<2.0,>=1.0 in /opt/conda/lib/python3.10/site-packages (from aiohttp->datasets>=2.14.5->modelscope->-r requirements.txt (line 18)) (1.9.4)\n",
      "Requirement already satisfied: frozenlist>=1.1.1 in /opt/conda/lib/python3.10/site-packages (from aiohttp->datasets>=2.14.5->modelscope->-r requirements.txt (line 18)) (1.4.1)\n",
      "Requirement already satisfied: aiosignal>=1.1.2 in /opt/conda/lib/python3.10/site-packages (from aiohttp->datasets>=2.14.5->modelscope->-r requirements.txt (line 18)) (1.3.1)\n",
      "Requirement already satisfied: async-timeout<5.0,>=4.0 in /opt/conda/lib/python3.10/site-packages (from aiohttp->datasets>=2.14.5->modelscope->-r requirements.txt (line 18)) (4.0.3)\n",
      "Requirement already satisfied: jmespath<1.0.0,>=0.9.3 in /opt/conda/lib/python3.10/site-packages (from aliyun-python-sdk-core>=2.13.12->oss2->funasr->-r requirements.txt (line 12)) (0.10.0)\n",
      "Requirement already satisfied: cryptography>=2.6.0 in /opt/conda/lib/python3.10/site-packages (from aliyun-python-sdk-core>=2.13.12->oss2->funasr->-r requirements.txt (line 12)) (41.0.3)\n",
      "Requirement already satisfied: pycparser in /opt/conda/lib/python3.10/site-packages (from cffi>=1.0->soundfile>=0.10.2->librosa==0.9.2->-r requirements.txt (line 4)) (2.21)\n",
      "Requirement already satisfied: jsonschema-specifications>=2023.03.6 in /opt/conda/lib/python3.10/site-packages (from jsonschema>=3.0->altair<6.0,>=4.2.0->gradio==3.47.1->-r requirements.txt (line 8)) (2023.12.1)\n",
      "Requirement already satisfied: referencing>=0.28.4 in /opt/conda/lib/python3.10/site-packages (from jsonschema>=3.0->altair<6.0,>=4.2.0->gradio==3.47.1->-r requirements.txt (line 8)) (0.32.0)\n",
      "Requirement already satisfied: rpds-py>=0.7.1 in /opt/conda/lib/python3.10/site-packages (from jsonschema>=3.0->altair<6.0,>=4.2.0->gradio==3.47.1->-r requirements.txt (line 8)) (0.16.2)\n",
      "Requirement already satisfied: pyasn1<0.6.0,>=0.4.6 in /opt/conda/lib/python3.10/site-packages (from pyasn1-modules>=0.2.1->google-auth<3,>=1.6.3->tensorboard->-r requirements.txt (line 3)) (0.5.1)\n",
      "Requirement already satisfied: oauthlib>=3.0.0 in /opt/conda/lib/python3.10/site-packages (from requests-oauthlib>=0.7.0->google-auth-oauthlib<2,>=0.5->tensorboard->-r requirements.txt (line 3)) (3.2.2)\n",
      "Requirement already satisfied: exceptiongroup>=1.0.2 in /opt/conda/lib/python3.10/site-packages (from anyio->httpx->gradio==3.47.1->-r requirements.txt (line 8)) (1.2.0)\n",
      "Building wheels for collected packages: pyopenjtalk, jieba_fast, ffmpy\n",
      "  Building wheel for pyopenjtalk (pyproject.toml): started\n",
      "  Building wheel for pyopenjtalk (pyproject.toml): finished with status 'done'\n",
      "  Created wheel for pyopenjtalk: filename=pyopenjtalk-0.3.3-cp310-cp310-linux_x86_64.whl size=1181180 sha256=1d30a6d24580773b02a43fb128f427a0dcb0c47696e6ca0067807141a7e02869\n",
      "  Stored in directory: /root/.cache/pip/wheels/8d/e4/89/d71752aa12278bb2e848e7b9135d0bc52e22d72831c9b68e2c\n",
      "  Building wheel for jieba_fast (setup.py): started\n",
      "  Building wheel for jieba_fast (setup.py): finished with status 'done'\n",
      "  Created wheel for jieba_fast: filename=jieba_fast-0.53-cp310-cp310-linux_x86_64.whl size=7629533 sha256=d5755b1e9661bd566445da8f36d94b348c189382f88fdb71d3ea123195e92ddf\n",
      "  Stored in directory: /root/.cache/pip/wheels/de/b4/00/8defd50de14cd374a76a6b19442bd77d0883815603c008849e\n",
      "  Building wheel for ffmpy (setup.py): started\n",
      "  Building wheel for ffmpy (setup.py): finished with status 'done'\n",
      "  Created wheel for ffmpy: filename=ffmpy-0.3.1-py3-none-any.whl size=5593 sha256=c57ad5f564f3f01eaaaf645e5b14b59f0652eb8325d0d9790272ca8026687651\n",
      "  Stored in directory: /root/.cache/pip/wheels/0e/ad/cd/dc25ce8ddc427869ccdbca0fa1b2168a74fb0f9306b81b3933\n",
      "Successfully built pyopenjtalk jieba_fast ffmpy\n"
     ]
    },
    {
     "name": "stderr",
     "output_type": "stream",
     "text": [
      "\u001b[33mDEPRECATION: omegaconf 2.0.6 has a non-standard dependency specifier PyYAML>=5.1.*. pip 24.0 will enforce this behaviour change. A possible replacement is to upgrade to a newer version of omegaconf or contact the author to suggest that they release a version with a conforming dependency specifiers. Discussion can be found at https://github.com/pypa/pip/issues/12063\u001b[0m\u001b[33m\n",
      "\u001b[0m"
     ]
    },
    {
     "name": "stdout",
     "output_type": "stream",
     "text": [
      "Installing collected packages: pydub, jieba_fast, ffmpy, websockets, toolz, semantic-version, python-multipart, proces, numpy, llvmlite, importlib-resources, httpcore, chardet, aiofiles, pyopenjtalk, numba, httpx, cn2an, torchmetrics, gradio-client, pytorch-lightning, librosa, altair, gradio\n",
      "  Building wheel for pyopenjtalk (pyproject.toml): finished with status 'done'\n",
      "  Created wheel for pyopenjtalk: filename=pyopenjtalk-0.3.3-cp310-cp310-linux_x86_64.whl size=1181180 sha256=e8583d6e749e0b57c48e746931a9c6519bf0f5668d349ec3fb68ea32cde632a0\n",
      "  Stored in directory: /root/.cache/pip/wheels/8d/e4/89/d71752aa12278bb2e848e7b9135d0bc52e22d72831c9b68e2c\n",
      "  Building wheel for jieba_fast (setup.py): started\n",
      "  Attempting uninstall: websockets\n",
      "    Found existing installation: websockets 12.0\n",
      "    Uninstalling websockets-12.0:\n",
      "      Successfully uninstalled websockets-12.0\n",
      "  Attempting uninstall: numpy\n",
      "    Found existing installation: numpy 1.26.3\n",
      "    Uninstalling numpy-1.26.3:\n",
      "      Successfully uninstalled numpy-1.26.3\n",
      "  Building wheel for jieba_fast (setup.py): finished with status 'done'\n",
      "  Created wheel for jieba_fast: filename=jieba_fast-0.53-cp310-cp310-linux_x86_64.whl size=7629533 sha256=9095b24fa9f1cc4848c8e6704483bdf47e2f50bedb59165c324cfe6d70b3ab23\n",
      "  Stored in directory: /root/.cache/pip/wheels/de/b4/00/8defd50de14cd374a76a6b19442bd77d0883815603c008849e\n",
      "  Building wheel for ffmpy (setup.py): started\n",
      "  Attempting uninstall: llvmlite\n",
      "    Found existing installation: llvmlite 0.41.1\n",
      "    Uninstalling llvmlite-0.41.1:\n",
      "      Successfully uninstalled llvmlite-0.41.1\n",
      "  Building wheel for ffmpy (setup.py): finished with status 'done'\n",
      "  Created wheel for ffmpy: filename=ffmpy-0.3.1-py3-none-any.whl size=5593 sha256=97975274d32f0c12310cf7644790d7b3505af929beb01369faed95a74122579c\n",
      "  Stored in directory: /root/.cache/pip/wheels/0e/ad/cd/dc25ce8ddc427869ccdbca0fa1b2168a74fb0f9306b81b3933\n",
      "Successfully built pyopenjtalk jieba_fast ffmpy\n",
      "  Attempting uninstall: numba\n",
      "    Found existing installation: numba 0.58.1\n",
      "    Uninstalling numba-0.58.1:\n",
      "      Successfully uninstalled numba-0.58.1\n"
     ]
    },
    {
     "name": "stderr",
     "output_type": "stream",
     "text": [
      "\u001b[33mWARNING: Error parsing requirements for llvmlite: [Errno 2] 没有那个文件或目录: '/opt/conda/lib/python3.10/site-packages/llvmlite-0.41.1.dist-info/METADATA'\u001b[0m\u001b[33m\n",
      "\u001b[0m\u001b[33mWARNING: Error parsing requirements for numba: [Errno 2] 没有那个文件或目录: '/opt/conda/lib/python3.10/site-packages/numba-0.58.1.dist-info/METADATA'\u001b[0m\u001b[33m\n",
      "\u001b[0m\u001b[33mWARNING: Error parsing requirements for numpy: [Errno 2] 没有那个文件或目录: '/opt/conda/lib/python3.10/site-packages/numpy-1.26.3.dist-info/METADATA'\u001b[0m\u001b[33m\n",
      "\u001b[0m\u001b[33mWARNING: Error parsing requirements for websockets: [Errno 2] 没有那个文件或目录: '/opt/conda/lib/python3.10/site-packages/websockets-12.0.dist-info/METADATA'\u001b[0m\u001b[33m\n",
      "\u001b[0m\u001b[33mDEPRECATION: omegaconf 2.0.6 has a non-standard dependency specifier PyYAML>=5.1.*. pip 24.0 will enforce this behaviour change. A possible replacement is to upgrade to a newer version of omegaconf or contact the author to suggest that they release a version with a conforming dependency specifiers. Discussion can be found at https://github.com/pypa/pip/issues/12063\u001b[0m\u001b[33m\n",
      "\u001b[0m"
     ]
    },
    {
     "name": "stdout",
     "output_type": "stream",
     "text": [
      "Installing collected packages: pydub, jieba_fast, ffmpy, websockets, toolz, semantic-version, python-multipart, proces, numpy, llvmlite, importlib-resources, httpcore, chardet, aiofiles, pyopenjtalk, numba, httpx, cn2an, torchmetrics, gradio-client, pytorch-lightning, librosa, altair, gradio\n",
      "  Attempting uninstall: torchmetrics\n",
      "    Found existing installation: torchmetrics 0.11.4\n",
      "    Uninstalling torchmetrics-0.11.4:\n",
      "      Successfully uninstalled torchmetrics-0.11.4\n",
      "  Attempting uninstall: pytorch-lightning\n",
      "    Found existing installation: pytorch-lightning 1.7.7\n",
      "    Uninstalling pytorch-lightning-1.7.7:\n",
      "      Successfully uninstalled pytorch-lightning-1.7.7\n",
      "  Attempting uninstall: librosa\n",
      "    Found existing installation: librosa 0.10.1\n",
      "    Uninstalling librosa-0.10.1:\n",
      "      Successfully uninstalled librosa-0.10.1\n",
      "  Attempting uninstall: websockets\n",
      "    Found existing installation: websockets 12.0\n",
      "    Can't uninstall 'websockets'. No files were found to uninstall.\n"
     ]
    },
    {
     "name": "stderr",
     "output_type": "stream",
     "text": [
      "\u001b[33m    WARNING: No metadata found in /opt/conda/lib/python3.10/site-packages\u001b[0m\u001b[33m\n",
      "\u001b[0m"
     ]
    },
    {
     "name": "stdout",
     "output_type": "stream",
     "text": [
      "  Attempting uninstall: numpy\n",
      "    Found existing installation: numpy 1.26.3\n",
      "    Can't uninstall 'numpy'. No files were found to uninstall.\n"
     ]
    },
    {
     "name": "stderr",
     "output_type": "stream",
     "text": [
      "\u001b[33m    WARNING: No metadata found in /opt/conda/lib/python3.10/site-packages\u001b[0m\u001b[33m\n",
      "\u001b[0m\u001b[31mERROR: pip's dependency resolver does not currently take into account all the packages that are installed. This behaviour is the source of the following dependency conflicts.\n",
      "basicsr 1.4.2 requires tb-nightly, which is not installed.\n",
      "tensorflow 2.14.0 requires tensorboard<2.15,>=2.14, but you have tensorboard 2.15.1 which is incompatible.\u001b[0m\u001b[31m\n",
      "\u001b[0m\u001b[33mWARNING: Running pip as the 'root' user can result in broken permissions and conflicting behaviour with the system package manager. It is recommended to use a virtual environment instead: https://pip.pypa.io/warnings/venv\u001b[0m\u001b[33m\n",
      "\u001b[0m\n",
      "\u001b[1m[\u001b[0m\u001b[34;49mnotice\u001b[0m\u001b[1;39;49m]\u001b[0m\u001b[39;49m A new release of pip is available: \u001b[0m\u001b[31;49m23.3.2\u001b[0m\u001b[39;49m -> \u001b[0m\u001b[32;49m24.0\u001b[0m\n",
      "\u001b[1m[\u001b[0m\u001b[34;49mnotice\u001b[0m\u001b[1;39;49m]\u001b[0m\u001b[39;49m To update, run: \u001b[0m\u001b[32;49mpip install --upgrade pip\u001b[0m\n"
     ]
    },
    {
     "name": "stdout",
     "output_type": "stream",
     "text": [
      "Successfully installed aiofiles-23.2.1 altair-5.2.0 chardet-5.2.0 cn2an-0.5.22 ffmpy-0.3.1 gradio-3.47.1 gradio-client-0.6.0 httpcore-1.0.2 httpx-0.26.0 importlib-resources-6.1.1 jieba_fast-0.53 librosa-0.9.2 llvmlite-0.39.1 numba-0.56.4 numpy-1.23.5 proces-0.1.7 pydub-0.25.1 pyopenjtalk-0.3.3 python-multipart-0.0.7 pytorch-lightning-2.1.0 semantic-version-2.10.0 toolz-0.12.1 torchmetrics-0.10.1 websockets-11.0.3\n",
      "  Attempting uninstall: llvmlite\n",
      "    Found existing installation: llvmlite 0.41.1\n",
      "    Can't uninstall 'llvmlite'. No files were found to uninstall.\n"
     ]
    },
    {
     "name": "stderr",
     "output_type": "stream",
     "text": [
      "\u001b[33m    WARNING: No metadata found in /opt/conda/lib/python3.10/site-packages\u001b[0m\u001b[33m\n",
      "\u001b[0m"
     ]
    },
    {
     "name": "stdout",
     "output_type": "stream",
     "text": [
      "  Attempting uninstall: numba\n",
      "    Found existing installation: numba 0.58.1\n",
      "    Can't uninstall 'numba'. No files were found to uninstall.\n"
     ]
    },
    {
     "name": "stderr",
     "output_type": "stream",
     "text": [
      "\u001b[33m    WARNING: No metadata found in /opt/conda/lib/python3.10/site-packages\u001b[0m\u001b[33m\n",
      "\u001b[0m"
     ]
    },
    {
     "name": "stdout",
     "output_type": "stream",
     "text": [
      "  Attempting uninstall: torchmetrics\n",
      "    Found existing installation: torchmetrics 0.11.4\n",
      "    Can't uninstall 'torchmetrics'. No files were found to uninstall.\n"
     ]
    },
    {
     "name": "stderr",
     "output_type": "stream",
     "text": [
      "\u001b[33m    WARNING: No metadata found in /opt/conda/lib/python3.10/site-packages\u001b[0m\u001b[33m\n",
      "\u001b[0m"
     ]
    },
    {
     "name": "stdout",
     "output_type": "stream",
     "text": [
      "  Attempting uninstall: pytorch-lightning\n",
      "    Found existing installation: pytorch-lightning 1.7.7\n",
      "    Can't uninstall 'pytorch-lightning'. No files were found to uninstall.\n"
     ]
    },
    {
     "name": "stderr",
     "output_type": "stream",
     "text": [
      "\u001b[33m    WARNING: No metadata found in /opt/conda/lib/python3.10/site-packages\u001b[0m\u001b[33m\n",
      "\u001b[0m"
     ]
    },
    {
     "name": "stdout",
     "output_type": "stream",
     "text": [
      "  Attempting uninstall: librosa\n",
      "    Found existing installation: librosa 0.10.1\n",
      "    Can't uninstall 'librosa'. No files were found to uninstall.\n"
     ]
    },
    {
     "name": "stderr",
     "output_type": "stream",
     "text": [
      "\u001b[33m    WARNING: No metadata found in /opt/conda/lib/python3.10/site-packages\u001b[0m\u001b[33m\n",
      "\u001b[0m\u001b[31mERROR: pip's dependency resolver does not currently take into account all the packages that are installed. This behaviour is the source of the following dependency conflicts.\n",
      "basicsr 1.4.2 requires tb-nightly, which is not installed.\n",
      "tensorflow 2.14.0 requires tensorboard<2.15,>=2.14, but you have tensorboard 2.15.1 which is incompatible.\u001b[0m\u001b[31m\n",
      "\u001b[0m\u001b[33mWARNING: Running pip as the 'root' user can result in broken permissions and conflicting behaviour with the system package manager. It is recommended to use a virtual environment instead: https://pip.pypa.io/warnings/venv\u001b[0m\u001b[33m\n",
      "\u001b[0m\n",
      "\u001b[1m[\u001b[0m\u001b[34;49mnotice\u001b[0m\u001b[1;39;49m]\u001b[0m\u001b[39;49m A new release of pip is available: \u001b[0m\u001b[31;49m23.3.2\u001b[0m\u001b[39;49m -> \u001b[0m\u001b[32;49m24.0\u001b[0m\n",
      "\u001b[1m[\u001b[0m\u001b[34;49mnotice\u001b[0m\u001b[1;39;49m]\u001b[0m\u001b[39;49m To update, run: \u001b[0m\u001b[32;49mpip install --upgrade pip\u001b[0m\n"
     ]
    },
    {
     "name": "stdout",
     "output_type": "stream",
     "text": [
      "Successfully installed aiofiles-23.2.1 altair-5.2.0 chardet-5.2.0 cn2an-0.5.22 ffmpy-0.3.1 gradio-3.47.1 gradio-client-0.6.0 httpcore-1.0.2 httpx-0.26.0 importlib-resources-6.1.1 jieba_fast-0.53 librosa-0.9.2 llvmlite-0.39.1 numba-0.56.4 numpy-1.23.5 proces-0.1.7 pydub-0.25.1 pyopenjtalk-0.3.3 python-multipart-0.0.7 pytorch-lightning-2.1.0 semantic-version-2.10.0 toolz-0.12.1 torchmetrics-0.10.1 websockets-11.0.3\n"
     ]
    }
   ],
   "source": [
    "# 更新一下依赖\n",
    "import subprocess\n",
    "subprocess.Popen(\"pip install -r requirements.txt\",shell=True)"
   ]
  },
  {
   "cell_type": "code",
   "execution_count": 3,
   "id": "47ec820b-d03a-459d-9bb8-6cc0591bb9c5",
   "metadata": {
    "ExecutionIndicator": {
     "show": true
    },
    "execution": {
     "iopub.execute_input": "2024-02-09T10:27:54.567755Z",
     "iopub.status.busy": "2024-02-09T10:27:54.567422Z",
     "iopub.status.idle": "2024-02-09T10:27:56.379389Z",
     "shell.execute_reply": "2024-02-09T10:27:56.378730Z",
     "shell.execute_reply.started": "2024-02-09T10:27:54.567732Z"
    },
    "tags": []
   },
   "outputs": [
    {
     "name": "stderr",
     "output_type": "stream",
     "text": [
      "/opt/conda/lib/python3.10/site-packages/tqdm/auto.py:21: TqdmWarning: IProgress not found. Please update jupyter and ipywidgets. See https://ipywidgets.readthedocs.io/en/stable/user_install.html\n",
      "  from .autonotebook import tqdm as notebook_tqdm\n"
     ]
    },
    {
     "data": {
      "text/plain": [
       "<Popen: returncode: None args: 'unzip nltk_data.zip -d /root '>"
      ]
     },
     "execution_count": 3,
     "metadata": {},
     "output_type": "execute_result"
    },
    {
     "name": "stdout",
     "output_type": "stream",
     "text": [
      "Archive:  nltk_data.zip\n",
      "   creating: /root/nltk_data/corpora/\n",
      " extracting: /root/nltk_data/corpora/cmudict.zip  \n",
      "   creating: /root/nltk_data/corpora/cmudict/\n",
      "  inflating: /root/nltk_data/corpora/cmudict/cmudict  \n",
      "  inflating: /root/nltk_data/corpora/cmudict/README  \n",
      "   creating: /root/nltk_data/taggers/\n",
      " extracting: /root/nltk_data/taggers/averaged_perceptron_tagger.zip  \n",
      "   creating: /root/nltk_data/taggers/averaged_perceptron_tagger/\n",
      "  inflating: /root/nltk_data/taggers/averaged_perceptron_tagger/averaged_perceptron_tagger.pickle  \n"
     ]
    }
   ],
   "source": [
    "# 安装一下frpc,只需要第一次运行时候安装。\n",
    "import gradio,os,subprocess\n",
    "gr_path=os.path.dirname(gradio.__file__)\n",
    "subprocess.Popen(f\"tar -zxf frpc.tgz -C {gr_path}\",shell=True)\n",
    "subprocess.Popen(f\"unzip nltk_data.zip -d /root \",shell=True)"
   ]
  },
  {
   "cell_type": "code",
   "execution_count": null,
   "id": "033829ee-77a2-47ba-a4c2-b09de7c3f8c9",
   "metadata": {
    "ExecutionIndicator": {
     "show": false
    },
    "execution": {
     "iopub.execute_input": "2024-02-09T10:29:05.664244Z",
     "iopub.status.busy": "2024-02-09T10:29:05.664014Z"
    },
    "tags": []
   },
   "outputs": [
    {
     "name": "stdout",
     "output_type": "stream",
     "text": [
      "--------------开始检测--------------------\n",
      "检测ffmpeg结果为: True\n",
      "当前工作目录:/mnt/workspace/Nana7mi-GPT-SoVITS\n",
      "当前推理设备: cuda   是否启用半精度: True\n",
      "cnhubert权重: pretrained_models/chinese-hubert-base  是否存在： True\n",
      "bert权重: pretrained_models/chinese-roberta-wwm-ext-large  是否存在： True\n",
      "-------------------开始检测音色:sanyueqi----------------\n",
      "GPT权重:models/Nana7mi/Nana7mi-e21.ckpt 是否存在：True\n",
      "SoVITS权重models/Nana7mi/Nana7mi_e47_s2444.pth 是否存在：True\n",
      "参考语音audio/Nana7mi/Nana7mi_20.wav 是否存在：True\n",
      "语音文本怎么点不开你得私信列表啊\n",
      "\n"
     ]
    },
    {
     "name": "stderr",
     "output_type": "stream",
     "text": [
      "/opt/conda/lib/python3.10/site-packages/tqdm/auto.py:21: TqdmWarning: IProgress not found. Please update jupyter and ipywidgets. See https://ipywidgets.readthedocs.io/en/stable/user_install.html\n",
      "  from .autonotebook import tqdm as notebook_tqdm\n",
      "Some weights of the model checkpoint at pretrained_models/chinese-hubert-base were not used when initializing HubertModel: ['encoder.pos_conv_embed.conv.weight_v', 'encoder.pos_conv_embed.conv.weight_g']\n",
      "- This IS expected if you are initializing HubertModel from the checkpoint of a model trained on another task or with another architecture (e.g. initializing a BertForSequenceClassification model from a BertForPreTraining model).\n",
      "- This IS NOT expected if you are initializing HubertModel from the checkpoint of a model that you expect to be exactly identical (initializing a BertForSequenceClassification model from a BertForSequenceClassification model).\n",
      "Some weights of HubertModel were not initialized from the model checkpoint at pretrained_models/chinese-hubert-base and are newly initialized: ['encoder.pos_conv_embed.conv.parametrizations.weight.original1', 'encoder.pos_conv_embed.conv.parametrizations.weight.original0']\n",
      "You should probably TRAIN this model on a down-stream task to be able to use it for predictions and inference.\n",
      "Some weights of the model checkpoint at pretrained_models/chinese-hubert-base were not used when initializing HubertModel: ['encoder.pos_conv_embed.conv.weight_v', 'encoder.pos_conv_embed.conv.weight_g']\n",
      "- This IS expected if you are initializing HubertModel from the checkpoint of a model trained on another task or with another architecture (e.g. initializing a BertForSequenceClassification model from a BertForPreTraining model).\n",
      "- This IS NOT expected if you are initializing HubertModel from the checkpoint of a model that you expect to be exactly identical (initializing a BertForSequenceClassification model from a BertForSequenceClassification model).\n",
      "Some weights of HubertModel were not initialized from the model checkpoint at pretrained_models/chinese-hubert-base and are newly initialized: ['encoder.pos_conv_embed.conv.parametrizations.weight.original1', 'encoder.pos_conv_embed.conv.parametrizations.weight.original0']\n",
      "You should probably TRAIN this model on a down-stream task to be able to use it for predictions and inference.\n"
     ]
    },
    {
     "name": "stdout",
     "output_type": "stream",
     "text": [
      "INFO:WebTTS:开始加载sanyueqi语音模型\n"
     ]
    },
    {
     "name": "stderr",
     "output_type": "stream",
     "text": [
      "/opt/conda/lib/python3.10/site-packages/torch/nn/utils/weight_norm.py:30: UserWarning: torch.nn.utils.weight_norm is deprecated in favor of torch.nn.utils.parametrizations.weight_norm.\n",
      "  warnings.warn(\"torch.nn.utils.weight_norm is deprecated in favor of torch.nn.utils.parametrizations.weight_norm.\")\n"
     ]
    },
    {
     "name": "stdout",
     "output_type": "stream",
     "text": [
      " * Serving Flask app 'WebTTS'\n",
      " * Debug mode: off\n",
      "INFO:werkzeug:\u001b[31m\u001b[1mWARNING: This is a development server. Do not use it in a production deployment. Use a production WSGI server instead.\u001b[0m\n",
      " * Running on http://127.0.0.1:8080\n",
      "INFO:werkzeug:\u001b[33mPress CTRL+C to quit\u001b[0m\n",
      "INFO:WebTTS:外网访问地址: https://9f992c4d2f4e8b37f6.gradio.live\n",
      "INFO:werkzeug:127.0.0.1 - - [09/Feb/2024 18:29:19] \"GET / HTTP/1.1\" 200 -\n",
      "INFO:werkzeug:127.0.0.1 - - [09/Feb/2024 18:29:20] \"GET /version HTTP/1.1\" 200 -\n",
      "INFO:werkzeug:127.0.0.1 - - [09/Feb/2024 18:29:20] \"\u001b[33mGET /favicon.ico HTTP/1.1\u001b[0m\" 404 -\n",
      "INFO:werkzeug:127.0.0.1 - - [09/Feb/2024 18:29:20] \"GET /config HTTP/1.1\" 200 -\n"
     ]
    },
    {
     "name": "stderr",
     "output_type": "stream",
     "text": [
      "Building prefix dict from the default dictionary ...\n"
     ]
    },
    {
     "name": "stdout",
     "output_type": "stream",
     "text": [
      "DEBUG:jieba_fast:Building prefix dict from the default dictionary ...\n"
     ]
    },
    {
     "name": "stderr",
     "output_type": "stream",
     "text": [
      "Loading model from cache /tmp/jieba.cache\n"
     ]
    },
    {
     "name": "stdout",
     "output_type": "stream",
     "text": [
      "DEBUG:jieba_fast:Loading model from cache /tmp/jieba.cache\n"
     ]
    },
    {
     "name": "stderr",
     "output_type": "stream",
     "text": [
      "Loading model cost 0.662 seconds.\n"
     ]
    },
    {
     "name": "stdout",
     "output_type": "stream",
     "text": [
      "DEBUG:jieba_fast:Loading model cost 0.662 seconds.\n"
     ]
    },
    {
     "name": "stderr",
     "output_type": "stream",
     "text": [
      "Prefix dict has been built succesfully.\n"
     ]
    },
    {
     "name": "stdout",
     "output_type": "stream",
     "text": [
      "DEBUG:jieba_fast:Prefix dict has been built succesfully.\n",
      "['怎么点不开你得私信列表啊。']\n",
      "['zh']\n",
      "['欢迎大家使用我的语音合成工具，有需要定制化开发的可以联系我。']\n",
      "['zh']\n"
     ]
    },
    {
     "name": "stderr",
     "output_type": "stream",
     "text": [
      "  9%|▉         | 141/1500 [00:01<00:14, 92.35it/s] \n",
      "/opt/conda/lib/python3.10/site-packages/torch/functional.py:650: UserWarning: stft with return_complex=False is deprecated. In a future pytorch release, stft will return complex tensors for all inputs, and return_complex=False will raise an error.\n",
      "Note: you can still call torch.view_as_real on the complex output to recover the old return format. (Triggered internally at ../aten/src/ATen/native/SpectralOps.cpp:863.)\n",
      "  return _VF.stft(input, n_fft, hop_length, win_length, window,  # type: ignore[attr-defined]\n"
     ]
    },
    {
     "name": "stdout",
     "output_type": "stream",
     "text": [
      "T2S Decoding EOS [85 -> 226]\n",
      "1.093\t0.715\t1.531\t0.536\n",
      "INFO:werkzeug:127.0.0.1 - - [09/Feb/2024 18:29:27] \"GET /?spk=sanyueqi&speed=1.0&emotion=&lang=zh&text=欢迎大家使用我的语音合成工具，有需要定制化开发的可以联系我。 HTTP/1.1\" 200 -\n",
      "INFO:werkzeug:127.0.0.1 - - [09/Feb/2024 18:29:33] \"\u001b[33mGET /favicon.ico HTTP/1.1\u001b[0m\" 404 -\n"
     ]
    }
   ],
   "source": [
    "# 原神，启动！\n",
    "from tts_alpha import flask_app,p\n",
    "p.start()\n",
    "flask_app.run(port=8080)"
   ]
  }
 ],
 "metadata": {
  "kernelspec": {
   "display_name": "Python 3 (ipykernel)",
   "language": "python",
   "name": "python3"
  },
  "language_info": {
   "codemirror_mode": {
    "name": "ipython",
    "version": 3
   },
   "file_extension": ".py",
   "mimetype": "text/x-python",
   "name": "python",
   "nbconvert_exporter": "python",
   "pygments_lexer": "ipython3",
   "version": "3.10.13"
  }
 },
 "nbformat": 4,
 "nbformat_minor": 5
}
