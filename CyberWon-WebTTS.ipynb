{
 "cells": [
  {
   "cell_type": "markdown",
   "id": "ec8cafcc-6809-4b77-a31e-2f405e5799b4",
   "metadata": {
    "tags": []
   },
   "source": [
    "###### 模型文件和权重，请浏览“模型文件”页面获取。\n",
    "###### 当前模型的贡献者未提供更加详细的模型介绍，但是您可以通过如下git clone命令，或者ModelScope SDK来下载模型。\n",
    "###### Clone with HTTP\n",
    "```\n",
    "git clone https://www.modelscope.cn/CyberWon/gpt-sovits-webtts.git\n",
    "```\n",
    "###### 如果您是本模型的贡献者，我们邀请您根据[模型贡献文档说明](https://www.modelscope.cn/docs/%E5%A6%82%E4%BD%95%E6%92%B0%E5%86%99%E5%A5%BD%E7%94%A8%E7%9A%84%E6%A8%A1%E5%9E%8B%E5%8D%A1%E7%89%87)，及时完善模型卡片内容。\n"
   ]
  },
  {
   "cell_type": "code",
   "execution_count": null,
   "id": "1b157a01-d776-44dd-9090-281b64fa4712",
   "metadata": {
    "ExecutionIndicator": {
     "show": true
    },
    "tags": []
   },
   "outputs": [],
   "source": [
    "import subprocess\n",
    "import os\n",
    "\n",
    "if os.path.exists(\"./gpt-sovits-webtts\"):\n",
    "    os.system(\"rm -rf ./gpt-sovits-webtts\")\n",
    "os.system(\"git clone https://www.modelscope.cn/CyberWon/gpt-sovits-webtts.git\")\n"
   ]
  },
  {
   "cell_type": "code",
   "execution_count": null,
   "id": "bc786df7-453a-4af4-a58f-b16c0ce22cfb",
   "metadata": {
    "scrolled": true,
    "tags": []
   },
   "outputs": [],
   "source": [
    "os.chdir(\"./gpt-sovits-webtts\")\n",
    "os.system(\"pip install -r requirements.txt\")"
   ]
  },
  {
   "cell_type": "code",
   "execution_count": null,
   "id": "b162b190-40ee-4b72-a3b1-4e715692628c",
   "metadata": {
    "tags": []
   },
   "outputs": [],
   "source": [
    "# 安装一下frpc,只需要第一次运行时候安装。\n",
    "import gradio,os,subprocess\n",
    "gr_path=os.path.dirname(gradio.__file__)\n",
    "subprocess.Popen(f\"tar -zxf frpc.tgz -C {gr_path}\",shell=True)\n",
    "subprocess.Popen(f\"unzip nltk_data.zip -d /root \",shell=True)"
   ]
  },
  {
   "cell_type": "code",
   "execution_count": null,
   "id": "3d4b9ecc-cca3-4aa9-9dd0-debdc0ae25d1",
   "metadata": {
    "tags": []
   },
   "outputs": [],
   "source": [
    "# 原神，启动！\n",
    "from tts_alpha import flask_app,p\n",
    "p.start()\n",
    "flask_app.run(port=8080)"
   ]
  },
  {
   "cell_type": "code",
   "execution_count": null,
   "id": "43b41f39-3618-429a-954e-5622e9f447a6",
   "metadata": {},
   "outputs": [],
   "source": []
  }
 ],
 "metadata": {
  "kernelspec": {
   "display_name": "Python 3 (ipykernel)",
   "language": "python",
   "name": "python3"
  },
  "language_info": {
   "codemirror_mode": {
    "name": "ipython",
    "version": 3
   },
   "file_extension": ".py",
   "mimetype": "text/x-python",
   "name": "python",
   "nbconvert_exporter": "python",
   "pygments_lexer": "ipython3",
   "version": "3.10.13"
  }
 },
 "nbformat": 4,
 "nbformat_minor": 5
}
